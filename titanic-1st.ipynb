{
 "cells": [
  {
   "cell_type": "code",
   "execution_count": 494,
   "metadata": {},
   "outputs": [],
   "source": [
    "import pandas as pd\n",
    "import numpy as np\n",
    "import matplotlib.pyplot as plt\n",
    "import seaborn as sns\n",
    "sns.set()"
   ]
  },
  {
   "cell_type": "code",
   "execution_count": 495,
   "metadata": {},
   "outputs": [
    {
     "data": {
      "text/html": [
       "<div>\n",
       "<style scoped>\n",
       "    .dataframe tbody tr th:only-of-type {\n",
       "        vertical-align: middle;\n",
       "    }\n",
       "\n",
       "    .dataframe tbody tr th {\n",
       "        vertical-align: top;\n",
       "    }\n",
       "\n",
       "    .dataframe thead th {\n",
       "        text-align: right;\n",
       "    }\n",
       "</style>\n",
       "<table border=\"1\" class=\"dataframe\">\n",
       "  <thead>\n",
       "    <tr style=\"text-align: right;\">\n",
       "      <th></th>\n",
       "      <th>PassengerId</th>\n",
       "      <th>Survived</th>\n",
       "      <th>Pclass</th>\n",
       "      <th>Name</th>\n",
       "      <th>Sex</th>\n",
       "      <th>Age</th>\n",
       "      <th>SibSp</th>\n",
       "      <th>Parch</th>\n",
       "      <th>Ticket</th>\n",
       "      <th>Fare</th>\n",
       "      <th>Cabin</th>\n",
       "      <th>Embarked</th>\n",
       "    </tr>\n",
       "  </thead>\n",
       "  <tbody>\n",
       "    <tr>\n",
       "      <td>0</td>\n",
       "      <td>1</td>\n",
       "      <td>0</td>\n",
       "      <td>3</td>\n",
       "      <td>Braund, Mr. Owen Harris</td>\n",
       "      <td>male</td>\n",
       "      <td>22.0</td>\n",
       "      <td>1</td>\n",
       "      <td>0</td>\n",
       "      <td>A/5 21171</td>\n",
       "      <td>7.2500</td>\n",
       "      <td>NaN</td>\n",
       "      <td>S</td>\n",
       "    </tr>\n",
       "    <tr>\n",
       "      <td>1</td>\n",
       "      <td>2</td>\n",
       "      <td>1</td>\n",
       "      <td>1</td>\n",
       "      <td>Cumings, Mrs. John Bradley (Florence Briggs Th...</td>\n",
       "      <td>female</td>\n",
       "      <td>38.0</td>\n",
       "      <td>1</td>\n",
       "      <td>0</td>\n",
       "      <td>PC 17599</td>\n",
       "      <td>71.2833</td>\n",
       "      <td>C85</td>\n",
       "      <td>C</td>\n",
       "    </tr>\n",
       "    <tr>\n",
       "      <td>2</td>\n",
       "      <td>3</td>\n",
       "      <td>1</td>\n",
       "      <td>3</td>\n",
       "      <td>Heikkinen, Miss. Laina</td>\n",
       "      <td>female</td>\n",
       "      <td>26.0</td>\n",
       "      <td>0</td>\n",
       "      <td>0</td>\n",
       "      <td>STON/O2. 3101282</td>\n",
       "      <td>7.9250</td>\n",
       "      <td>NaN</td>\n",
       "      <td>S</td>\n",
       "    </tr>\n",
       "    <tr>\n",
       "      <td>3</td>\n",
       "      <td>4</td>\n",
       "      <td>1</td>\n",
       "      <td>1</td>\n",
       "      <td>Futrelle, Mrs. Jacques Heath (Lily May Peel)</td>\n",
       "      <td>female</td>\n",
       "      <td>35.0</td>\n",
       "      <td>1</td>\n",
       "      <td>0</td>\n",
       "      <td>113803</td>\n",
       "      <td>53.1000</td>\n",
       "      <td>C123</td>\n",
       "      <td>S</td>\n",
       "    </tr>\n",
       "    <tr>\n",
       "      <td>4</td>\n",
       "      <td>5</td>\n",
       "      <td>0</td>\n",
       "      <td>3</td>\n",
       "      <td>Allen, Mr. William Henry</td>\n",
       "      <td>male</td>\n",
       "      <td>35.0</td>\n",
       "      <td>0</td>\n",
       "      <td>0</td>\n",
       "      <td>373450</td>\n",
       "      <td>8.0500</td>\n",
       "      <td>NaN</td>\n",
       "      <td>S</td>\n",
       "    </tr>\n",
       "  </tbody>\n",
       "</table>\n",
       "</div>"
      ],
      "text/plain": [
       "   PassengerId  Survived  Pclass  \\\n",
       "0            1         0       3   \n",
       "1            2         1       1   \n",
       "2            3         1       3   \n",
       "3            4         1       1   \n",
       "4            5         0       3   \n",
       "\n",
       "                                                Name     Sex   Age  SibSp  \\\n",
       "0                            Braund, Mr. Owen Harris    male  22.0      1   \n",
       "1  Cumings, Mrs. John Bradley (Florence Briggs Th...  female  38.0      1   \n",
       "2                             Heikkinen, Miss. Laina  female  26.0      0   \n",
       "3       Futrelle, Mrs. Jacques Heath (Lily May Peel)  female  35.0      1   \n",
       "4                           Allen, Mr. William Henry    male  35.0      0   \n",
       "\n",
       "   Parch            Ticket     Fare Cabin Embarked  \n",
       "0      0         A/5 21171   7.2500   NaN        S  \n",
       "1      0          PC 17599  71.2833   C85        C  \n",
       "2      0  STON/O2. 3101282   7.9250   NaN        S  \n",
       "3      0            113803  53.1000  C123        S  \n",
       "4      0            373450   8.0500   NaN        S  "
      ]
     },
     "execution_count": 495,
     "metadata": {},
     "output_type": "execute_result"
    }
   ],
   "source": [
    "df_train = pd.read_csv('train.csv')\n",
    "df_train.head()"
   ]
  },
  {
   "cell_type": "code",
   "execution_count": 496,
   "metadata": {},
   "outputs": [
    {
     "data": {
      "text/html": [
       "<div>\n",
       "<style scoped>\n",
       "    .dataframe tbody tr th:only-of-type {\n",
       "        vertical-align: middle;\n",
       "    }\n",
       "\n",
       "    .dataframe tbody tr th {\n",
       "        vertical-align: top;\n",
       "    }\n",
       "\n",
       "    .dataframe thead th {\n",
       "        text-align: right;\n",
       "    }\n",
       "</style>\n",
       "<table border=\"1\" class=\"dataframe\">\n",
       "  <thead>\n",
       "    <tr style=\"text-align: right;\">\n",
       "      <th></th>\n",
       "      <th>PassengerId</th>\n",
       "      <th>Pclass</th>\n",
       "      <th>Name</th>\n",
       "      <th>Sex</th>\n",
       "      <th>Age</th>\n",
       "      <th>SibSp</th>\n",
       "      <th>Parch</th>\n",
       "      <th>Ticket</th>\n",
       "      <th>Fare</th>\n",
       "      <th>Cabin</th>\n",
       "      <th>Embarked</th>\n",
       "    </tr>\n",
       "  </thead>\n",
       "  <tbody>\n",
       "    <tr>\n",
       "      <td>0</td>\n",
       "      <td>892</td>\n",
       "      <td>3</td>\n",
       "      <td>Kelly, Mr. James</td>\n",
       "      <td>male</td>\n",
       "      <td>34.5</td>\n",
       "      <td>0</td>\n",
       "      <td>0</td>\n",
       "      <td>330911</td>\n",
       "      <td>7.8292</td>\n",
       "      <td>NaN</td>\n",
       "      <td>Q</td>\n",
       "    </tr>\n",
       "    <tr>\n",
       "      <td>1</td>\n",
       "      <td>893</td>\n",
       "      <td>3</td>\n",
       "      <td>Wilkes, Mrs. James (Ellen Needs)</td>\n",
       "      <td>female</td>\n",
       "      <td>47.0</td>\n",
       "      <td>1</td>\n",
       "      <td>0</td>\n",
       "      <td>363272</td>\n",
       "      <td>7.0000</td>\n",
       "      <td>NaN</td>\n",
       "      <td>S</td>\n",
       "    </tr>\n",
       "    <tr>\n",
       "      <td>2</td>\n",
       "      <td>894</td>\n",
       "      <td>2</td>\n",
       "      <td>Myles, Mr. Thomas Francis</td>\n",
       "      <td>male</td>\n",
       "      <td>62.0</td>\n",
       "      <td>0</td>\n",
       "      <td>0</td>\n",
       "      <td>240276</td>\n",
       "      <td>9.6875</td>\n",
       "      <td>NaN</td>\n",
       "      <td>Q</td>\n",
       "    </tr>\n",
       "    <tr>\n",
       "      <td>3</td>\n",
       "      <td>895</td>\n",
       "      <td>3</td>\n",
       "      <td>Wirz, Mr. Albert</td>\n",
       "      <td>male</td>\n",
       "      <td>27.0</td>\n",
       "      <td>0</td>\n",
       "      <td>0</td>\n",
       "      <td>315154</td>\n",
       "      <td>8.6625</td>\n",
       "      <td>NaN</td>\n",
       "      <td>S</td>\n",
       "    </tr>\n",
       "    <tr>\n",
       "      <td>4</td>\n",
       "      <td>896</td>\n",
       "      <td>3</td>\n",
       "      <td>Hirvonen, Mrs. Alexander (Helga E Lindqvist)</td>\n",
       "      <td>female</td>\n",
       "      <td>22.0</td>\n",
       "      <td>1</td>\n",
       "      <td>1</td>\n",
       "      <td>3101298</td>\n",
       "      <td>12.2875</td>\n",
       "      <td>NaN</td>\n",
       "      <td>S</td>\n",
       "    </tr>\n",
       "  </tbody>\n",
       "</table>\n",
       "</div>"
      ],
      "text/plain": [
       "   PassengerId  Pclass                                          Name     Sex  \\\n",
       "0          892       3                              Kelly, Mr. James    male   \n",
       "1          893       3              Wilkes, Mrs. James (Ellen Needs)  female   \n",
       "2          894       2                     Myles, Mr. Thomas Francis    male   \n",
       "3          895       3                              Wirz, Mr. Albert    male   \n",
       "4          896       3  Hirvonen, Mrs. Alexander (Helga E Lindqvist)  female   \n",
       "\n",
       "    Age  SibSp  Parch   Ticket     Fare Cabin Embarked  \n",
       "0  34.5      0      0   330911   7.8292   NaN        Q  \n",
       "1  47.0      1      0   363272   7.0000   NaN        S  \n",
       "2  62.0      0      0   240276   9.6875   NaN        Q  \n",
       "3  27.0      0      0   315154   8.6625   NaN        S  \n",
       "4  22.0      1      1  3101298  12.2875   NaN        S  "
      ]
     },
     "execution_count": 496,
     "metadata": {},
     "output_type": "execute_result"
    }
   ],
   "source": [
    "df_test = pd.read_csv('test.csv')\n",
    "df_test.head()"
   ]
  },
  {
   "cell_type": "code",
   "execution_count": 497,
   "metadata": {},
   "outputs": [
    {
     "name": "stdout",
     "output_type": "stream",
     "text": [
      "<class 'pandas.core.frame.DataFrame'>\n",
      "RangeIndex: 891 entries, 0 to 890\n",
      "Data columns (total 12 columns):\n",
      "PassengerId    891 non-null int64\n",
      "Survived       891 non-null int64\n",
      "Pclass         891 non-null int64\n",
      "Name           891 non-null object\n",
      "Sex            891 non-null object\n",
      "Age            714 non-null float64\n",
      "SibSp          891 non-null int64\n",
      "Parch          891 non-null int64\n",
      "Ticket         891 non-null object\n",
      "Fare           891 non-null float64\n",
      "Cabin          204 non-null object\n",
      "Embarked       889 non-null object\n",
      "dtypes: float64(2), int64(5), object(5)\n",
      "memory usage: 83.7+ KB\n",
      "\n",
      "\n",
      "<class 'pandas.core.frame.DataFrame'>\n",
      "RangeIndex: 418 entries, 0 to 417\n",
      "Data columns (total 11 columns):\n",
      "PassengerId    418 non-null int64\n",
      "Pclass         418 non-null int64\n",
      "Name           418 non-null object\n",
      "Sex            418 non-null object\n",
      "Age            332 non-null float64\n",
      "SibSp          418 non-null int64\n",
      "Parch          418 non-null int64\n",
      "Ticket         418 non-null object\n",
      "Fare           417 non-null float64\n",
      "Cabin          91 non-null object\n",
      "Embarked       418 non-null object\n",
      "dtypes: float64(2), int64(4), object(5)\n",
      "memory usage: 36.0+ KB\n"
     ]
    }
   ],
   "source": [
    "df_train.info()\n",
    "print('\\n')\n",
    "df_test.info()"
   ]
  },
  {
   "cell_type": "code",
   "execution_count": 498,
   "metadata": {},
   "outputs": [
    {
     "data": {
      "text/html": [
       "<div>\n",
       "<style scoped>\n",
       "    .dataframe tbody tr th:only-of-type {\n",
       "        vertical-align: middle;\n",
       "    }\n",
       "\n",
       "    .dataframe tbody tr th {\n",
       "        vertical-align: top;\n",
       "    }\n",
       "\n",
       "    .dataframe thead th {\n",
       "        text-align: right;\n",
       "    }\n",
       "</style>\n",
       "<table border=\"1\" class=\"dataframe\">\n",
       "  <thead>\n",
       "    <tr style=\"text-align: right;\">\n",
       "      <th></th>\n",
       "      <th>Name</th>\n",
       "      <th>Sex</th>\n",
       "      <th>Ticket</th>\n",
       "      <th>Cabin</th>\n",
       "      <th>Embarked</th>\n",
       "    </tr>\n",
       "  </thead>\n",
       "  <tbody>\n",
       "    <tr>\n",
       "      <td>count</td>\n",
       "      <td>891</td>\n",
       "      <td>891</td>\n",
       "      <td>891</td>\n",
       "      <td>204</td>\n",
       "      <td>889</td>\n",
       "    </tr>\n",
       "    <tr>\n",
       "      <td>unique</td>\n",
       "      <td>891</td>\n",
       "      <td>2</td>\n",
       "      <td>681</td>\n",
       "      <td>147</td>\n",
       "      <td>3</td>\n",
       "    </tr>\n",
       "    <tr>\n",
       "      <td>top</td>\n",
       "      <td>McCormack, Mr. Thomas Joseph</td>\n",
       "      <td>male</td>\n",
       "      <td>CA. 2343</td>\n",
       "      <td>B96 B98</td>\n",
       "      <td>S</td>\n",
       "    </tr>\n",
       "    <tr>\n",
       "      <td>freq</td>\n",
       "      <td>1</td>\n",
       "      <td>577</td>\n",
       "      <td>7</td>\n",
       "      <td>4</td>\n",
       "      <td>644</td>\n",
       "    </tr>\n",
       "  </tbody>\n",
       "</table>\n",
       "</div>"
      ],
      "text/plain": [
       "                                Name   Sex    Ticket    Cabin Embarked\n",
       "count                            891   891       891      204      889\n",
       "unique                           891     2       681      147        3\n",
       "top     McCormack, Mr. Thomas Joseph  male  CA. 2343  B96 B98        S\n",
       "freq                               1   577         7        4      644"
      ]
     },
     "execution_count": 498,
     "metadata": {},
     "output_type": "execute_result"
    }
   ],
   "source": [
    "df_train.describe(include=['O'])"
   ]
  },
  {
   "cell_type": "markdown",
   "metadata": {},
   "source": [
    "- There are 891 datapoints\n",
    "- Names are completely unique\n",
    "- There are more males than females (64.76 % of males and 35.24 % of females)\n",
    "- There is fairly high ratio of duplicate tickets (22 %)\n",
    "- Cabin column has only 204 values indicating that a lot of data is missing.\n",
    "- Embark has three unique values. Most of the people used S port to embark"
   ]
  },
  {
   "cell_type": "code",
   "execution_count": 499,
   "metadata": {},
   "outputs": [
    {
     "data": {
      "text/html": [
       "<div>\n",
       "<style scoped>\n",
       "    .dataframe tbody tr th:only-of-type {\n",
       "        vertical-align: middle;\n",
       "    }\n",
       "\n",
       "    .dataframe tbody tr th {\n",
       "        vertical-align: top;\n",
       "    }\n",
       "\n",
       "    .dataframe thead th {\n",
       "        text-align: right;\n",
       "    }\n",
       "</style>\n",
       "<table border=\"1\" class=\"dataframe\">\n",
       "  <thead>\n",
       "    <tr style=\"text-align: right;\">\n",
       "      <th></th>\n",
       "      <th>PassengerId</th>\n",
       "      <th>Survived</th>\n",
       "      <th>Pclass</th>\n",
       "      <th>Age</th>\n",
       "      <th>SibSp</th>\n",
       "      <th>Parch</th>\n",
       "      <th>Fare</th>\n",
       "    </tr>\n",
       "  </thead>\n",
       "  <tbody>\n",
       "    <tr>\n",
       "      <td>count</td>\n",
       "      <td>891.000000</td>\n",
       "      <td>891.000000</td>\n",
       "      <td>891.000000</td>\n",
       "      <td>714.000000</td>\n",
       "      <td>891.000000</td>\n",
       "      <td>891.000000</td>\n",
       "      <td>891.000000</td>\n",
       "    </tr>\n",
       "    <tr>\n",
       "      <td>mean</td>\n",
       "      <td>446.000000</td>\n",
       "      <td>0.383838</td>\n",
       "      <td>2.308642</td>\n",
       "      <td>29.699118</td>\n",
       "      <td>0.523008</td>\n",
       "      <td>0.381594</td>\n",
       "      <td>32.204208</td>\n",
       "    </tr>\n",
       "    <tr>\n",
       "      <td>std</td>\n",
       "      <td>257.353842</td>\n",
       "      <td>0.486592</td>\n",
       "      <td>0.836071</td>\n",
       "      <td>14.526497</td>\n",
       "      <td>1.102743</td>\n",
       "      <td>0.806057</td>\n",
       "      <td>49.693429</td>\n",
       "    </tr>\n",
       "    <tr>\n",
       "      <td>min</td>\n",
       "      <td>1.000000</td>\n",
       "      <td>0.000000</td>\n",
       "      <td>1.000000</td>\n",
       "      <td>0.420000</td>\n",
       "      <td>0.000000</td>\n",
       "      <td>0.000000</td>\n",
       "      <td>0.000000</td>\n",
       "    </tr>\n",
       "    <tr>\n",
       "      <td>25%</td>\n",
       "      <td>223.500000</td>\n",
       "      <td>0.000000</td>\n",
       "      <td>2.000000</td>\n",
       "      <td>20.125000</td>\n",
       "      <td>0.000000</td>\n",
       "      <td>0.000000</td>\n",
       "      <td>7.910400</td>\n",
       "    </tr>\n",
       "    <tr>\n",
       "      <td>50%</td>\n",
       "      <td>446.000000</td>\n",
       "      <td>0.000000</td>\n",
       "      <td>3.000000</td>\n",
       "      <td>28.000000</td>\n",
       "      <td>0.000000</td>\n",
       "      <td>0.000000</td>\n",
       "      <td>14.454200</td>\n",
       "    </tr>\n",
       "    <tr>\n",
       "      <td>75%</td>\n",
       "      <td>668.500000</td>\n",
       "      <td>1.000000</td>\n",
       "      <td>3.000000</td>\n",
       "      <td>38.000000</td>\n",
       "      <td>1.000000</td>\n",
       "      <td>0.000000</td>\n",
       "      <td>31.000000</td>\n",
       "    </tr>\n",
       "    <tr>\n",
       "      <td>max</td>\n",
       "      <td>891.000000</td>\n",
       "      <td>1.000000</td>\n",
       "      <td>3.000000</td>\n",
       "      <td>80.000000</td>\n",
       "      <td>8.000000</td>\n",
       "      <td>6.000000</td>\n",
       "      <td>512.329200</td>\n",
       "    </tr>\n",
       "  </tbody>\n",
       "</table>\n",
       "</div>"
      ],
      "text/plain": [
       "       PassengerId    Survived      Pclass         Age       SibSp  \\\n",
       "count   891.000000  891.000000  891.000000  714.000000  891.000000   \n",
       "mean    446.000000    0.383838    2.308642   29.699118    0.523008   \n",
       "std     257.353842    0.486592    0.836071   14.526497    1.102743   \n",
       "min       1.000000    0.000000    1.000000    0.420000    0.000000   \n",
       "25%     223.500000    0.000000    2.000000   20.125000    0.000000   \n",
       "50%     446.000000    0.000000    3.000000   28.000000    0.000000   \n",
       "75%     668.500000    1.000000    3.000000   38.000000    1.000000   \n",
       "max     891.000000    1.000000    3.000000   80.000000    8.000000   \n",
       "\n",
       "            Parch        Fare  \n",
       "count  891.000000  891.000000  \n",
       "mean     0.381594   32.204208  \n",
       "std      0.806057   49.693429  \n",
       "min      0.000000    0.000000  \n",
       "25%      0.000000    7.910400  \n",
       "50%      0.000000   14.454200  \n",
       "75%      0.000000   31.000000  \n",
       "max      6.000000  512.329200  "
      ]
     },
     "execution_count": 499,
     "metadata": {},
     "output_type": "execute_result"
    }
   ],
   "source": [
    "df_train.describe()"
   ]
  },
  {
   "cell_type": "markdown",
   "metadata": {},
   "source": [
    "- 38.38 % of the people survived\n",
    "- There are three separate classes in Titanic. Most people sailed in 3rd class.  \n",
    "- Average age of people on board is 29.69 years. There are only few elderly people on board.\n",
    "- Approximately 30 % of the people had siblings and/or spouse on the trip\n",
    "- More than 75 % of the people sailed without their parents or children\n",
    "- Average fare was 32.2 dolars. Very few people had very expensive tickets. Highest price was for 512 dolars."
   ]
  },
  {
   "cell_type": "code",
   "execution_count": 500,
   "metadata": {},
   "outputs": [
    {
     "data": {
      "text/html": [
       "<div>\n",
       "<style scoped>\n",
       "    .dataframe tbody tr th:only-of-type {\n",
       "        vertical-align: middle;\n",
       "    }\n",
       "\n",
       "    .dataframe tbody tr th {\n",
       "        vertical-align: top;\n",
       "    }\n",
       "\n",
       "    .dataframe thead th {\n",
       "        text-align: right;\n",
       "    }\n",
       "</style>\n",
       "<table border=\"1\" class=\"dataframe\">\n",
       "  <thead>\n",
       "    <tr style=\"text-align: right;\">\n",
       "      <th></th>\n",
       "      <th>Pclass</th>\n",
       "      <th>Fare</th>\n",
       "      <th>Age</th>\n",
       "      <th>Survived</th>\n",
       "    </tr>\n",
       "  </thead>\n",
       "  <tbody>\n",
       "    <tr>\n",
       "      <td>0</td>\n",
       "      <td>1</td>\n",
       "      <td>84.154687</td>\n",
       "      <td>38.233441</td>\n",
       "      <td>0.629630</td>\n",
       "    </tr>\n",
       "    <tr>\n",
       "      <td>1</td>\n",
       "      <td>2</td>\n",
       "      <td>20.662183</td>\n",
       "      <td>29.877630</td>\n",
       "      <td>0.472826</td>\n",
       "    </tr>\n",
       "    <tr>\n",
       "      <td>2</td>\n",
       "      <td>3</td>\n",
       "      <td>13.675550</td>\n",
       "      <td>25.140620</td>\n",
       "      <td>0.242363</td>\n",
       "    </tr>\n",
       "  </tbody>\n",
       "</table>\n",
       "</div>"
      ],
      "text/plain": [
       "   Pclass       Fare        Age  Survived\n",
       "0       1  84.154687  38.233441  0.629630\n",
       "1       2  20.662183  29.877630  0.472826\n",
       "2       3  13.675550  25.140620  0.242363"
      ]
     },
     "execution_count": 500,
     "metadata": {},
     "output_type": "execute_result"
    }
   ],
   "source": [
    "df_train[['Pclass', 'Fare', 'Age', 'Survived']].groupby(['Pclass'], as_index=False).mean().sort_values(by='Survived', ascending=False)"
   ]
  },
  {
   "cell_type": "code",
   "execution_count": 501,
   "metadata": {},
   "outputs": [
    {
     "data": {
      "text/html": [
       "<div>\n",
       "<style scoped>\n",
       "    .dataframe tbody tr th:only-of-type {\n",
       "        vertical-align: middle;\n",
       "    }\n",
       "\n",
       "    .dataframe tbody tr th {\n",
       "        vertical-align: top;\n",
       "    }\n",
       "\n",
       "    .dataframe thead th {\n",
       "        text-align: right;\n",
       "    }\n",
       "</style>\n",
       "<table border=\"1\" class=\"dataframe\">\n",
       "  <thead>\n",
       "    <tr style=\"text-align: right;\">\n",
       "      <th></th>\n",
       "      <th>Sex</th>\n",
       "      <th>Age</th>\n",
       "      <th>Survived</th>\n",
       "    </tr>\n",
       "  </thead>\n",
       "  <tbody>\n",
       "    <tr>\n",
       "      <td>0</td>\n",
       "      <td>female</td>\n",
       "      <td>27.915709</td>\n",
       "      <td>0.742038</td>\n",
       "    </tr>\n",
       "    <tr>\n",
       "      <td>1</td>\n",
       "      <td>male</td>\n",
       "      <td>30.726645</td>\n",
       "      <td>0.188908</td>\n",
       "    </tr>\n",
       "  </tbody>\n",
       "</table>\n",
       "</div>"
      ],
      "text/plain": [
       "      Sex        Age  Survived\n",
       "0  female  27.915709  0.742038\n",
       "1    male  30.726645  0.188908"
      ]
     },
     "execution_count": 501,
     "metadata": {},
     "output_type": "execute_result"
    }
   ],
   "source": [
    "df_train[['Sex', 'Age', 'Survived']].groupby(['Sex'], as_index=False).mean().sort_values(by='Survived', ascending=False)"
   ]
  },
  {
   "cell_type": "code",
   "execution_count": 502,
   "metadata": {},
   "outputs": [
    {
     "data": {
      "text/html": [
       "<div>\n",
       "<style scoped>\n",
       "    .dataframe tbody tr th:only-of-type {\n",
       "        vertical-align: middle;\n",
       "    }\n",
       "\n",
       "    .dataframe tbody tr th {\n",
       "        vertical-align: top;\n",
       "    }\n",
       "\n",
       "    .dataframe thead th {\n",
       "        text-align: right;\n",
       "    }\n",
       "</style>\n",
       "<table border=\"1\" class=\"dataframe\">\n",
       "  <thead>\n",
       "    <tr style=\"text-align: right;\">\n",
       "      <th></th>\n",
       "      <th>SibSp</th>\n",
       "      <th>Age</th>\n",
       "      <th>Survived</th>\n",
       "    </tr>\n",
       "  </thead>\n",
       "  <tbody>\n",
       "    <tr>\n",
       "      <td>1</td>\n",
       "      <td>1</td>\n",
       "      <td>30.089727</td>\n",
       "      <td>0.535885</td>\n",
       "    </tr>\n",
       "    <tr>\n",
       "      <td>2</td>\n",
       "      <td>2</td>\n",
       "      <td>22.620000</td>\n",
       "      <td>0.464286</td>\n",
       "    </tr>\n",
       "    <tr>\n",
       "      <td>0</td>\n",
       "      <td>0</td>\n",
       "      <td>31.397558</td>\n",
       "      <td>0.345395</td>\n",
       "    </tr>\n",
       "    <tr>\n",
       "      <td>3</td>\n",
       "      <td>3</td>\n",
       "      <td>13.916667</td>\n",
       "      <td>0.250000</td>\n",
       "    </tr>\n",
       "    <tr>\n",
       "      <td>4</td>\n",
       "      <td>4</td>\n",
       "      <td>7.055556</td>\n",
       "      <td>0.166667</td>\n",
       "    </tr>\n",
       "    <tr>\n",
       "      <td>5</td>\n",
       "      <td>5</td>\n",
       "      <td>10.200000</td>\n",
       "      <td>0.000000</td>\n",
       "    </tr>\n",
       "    <tr>\n",
       "      <td>6</td>\n",
       "      <td>8</td>\n",
       "      <td>NaN</td>\n",
       "      <td>0.000000</td>\n",
       "    </tr>\n",
       "  </tbody>\n",
       "</table>\n",
       "</div>"
      ],
      "text/plain": [
       "   SibSp        Age  Survived\n",
       "1      1  30.089727  0.535885\n",
       "2      2  22.620000  0.464286\n",
       "0      0  31.397558  0.345395\n",
       "3      3  13.916667  0.250000\n",
       "4      4   7.055556  0.166667\n",
       "5      5  10.200000  0.000000\n",
       "6      8        NaN  0.000000"
      ]
     },
     "execution_count": 502,
     "metadata": {},
     "output_type": "execute_result"
    }
   ],
   "source": [
    "df_train[['SibSp', 'Age', 'Survived']].groupby(['SibSp'], as_index=False).mean().sort_values(by='Survived', ascending=False)"
   ]
  },
  {
   "cell_type": "code",
   "execution_count": 503,
   "metadata": {},
   "outputs": [
    {
     "data": {
      "text/html": [
       "<div>\n",
       "<style scoped>\n",
       "    .dataframe tbody tr th:only-of-type {\n",
       "        vertical-align: middle;\n",
       "    }\n",
       "\n",
       "    .dataframe tbody tr th {\n",
       "        vertical-align: top;\n",
       "    }\n",
       "\n",
       "    .dataframe thead th {\n",
       "        text-align: right;\n",
       "    }\n",
       "</style>\n",
       "<table border=\"1\" class=\"dataframe\">\n",
       "  <thead>\n",
       "    <tr style=\"text-align: right;\">\n",
       "      <th></th>\n",
       "      <th>Parch</th>\n",
       "      <th>Age</th>\n",
       "      <th>Survived</th>\n",
       "    </tr>\n",
       "  </thead>\n",
       "  <tbody>\n",
       "    <tr>\n",
       "      <td>3</td>\n",
       "      <td>3</td>\n",
       "      <td>33.200000</td>\n",
       "      <td>0.600000</td>\n",
       "    </tr>\n",
       "    <tr>\n",
       "      <td>1</td>\n",
       "      <td>1</td>\n",
       "      <td>24.422000</td>\n",
       "      <td>0.550847</td>\n",
       "    </tr>\n",
       "    <tr>\n",
       "      <td>2</td>\n",
       "      <td>2</td>\n",
       "      <td>17.216912</td>\n",
       "      <td>0.500000</td>\n",
       "    </tr>\n",
       "    <tr>\n",
       "      <td>0</td>\n",
       "      <td>0</td>\n",
       "      <td>32.178503</td>\n",
       "      <td>0.343658</td>\n",
       "    </tr>\n",
       "    <tr>\n",
       "      <td>5</td>\n",
       "      <td>5</td>\n",
       "      <td>39.200000</td>\n",
       "      <td>0.200000</td>\n",
       "    </tr>\n",
       "    <tr>\n",
       "      <td>4</td>\n",
       "      <td>4</td>\n",
       "      <td>44.500000</td>\n",
       "      <td>0.000000</td>\n",
       "    </tr>\n",
       "    <tr>\n",
       "      <td>6</td>\n",
       "      <td>6</td>\n",
       "      <td>43.000000</td>\n",
       "      <td>0.000000</td>\n",
       "    </tr>\n",
       "  </tbody>\n",
       "</table>\n",
       "</div>"
      ],
      "text/plain": [
       "   Parch        Age  Survived\n",
       "3      3  33.200000  0.600000\n",
       "1      1  24.422000  0.550847\n",
       "2      2  17.216912  0.500000\n",
       "0      0  32.178503  0.343658\n",
       "5      5  39.200000  0.200000\n",
       "4      4  44.500000  0.000000\n",
       "6      6  43.000000  0.000000"
      ]
     },
     "execution_count": 503,
     "metadata": {},
     "output_type": "execute_result"
    }
   ],
   "source": [
    "df_train[['Parch', 'Age', 'Survived']].groupby(['Parch'], as_index=False).mean().sort_values(by='Survived', ascending=False)"
   ]
  },
  {
   "cell_type": "code",
   "execution_count": 504,
   "metadata": {},
   "outputs": [
    {
     "data": {
      "text/html": [
       "<div>\n",
       "<style scoped>\n",
       "    .dataframe tbody tr th:only-of-type {\n",
       "        vertical-align: middle;\n",
       "    }\n",
       "\n",
       "    .dataframe tbody tr th {\n",
       "        vertical-align: top;\n",
       "    }\n",
       "\n",
       "    .dataframe thead th {\n",
       "        text-align: right;\n",
       "    }\n",
       "</style>\n",
       "<table border=\"1\" class=\"dataframe\">\n",
       "  <thead>\n",
       "    <tr style=\"text-align: right;\">\n",
       "      <th></th>\n",
       "      <th>age_interval</th>\n",
       "      <th>Survived</th>\n",
       "    </tr>\n",
       "  </thead>\n",
       "  <tbody>\n",
       "    <tr>\n",
       "      <td>5</td>\n",
       "      <td>age &gt; 75</td>\n",
       "      <td>1.000000</td>\n",
       "    </tr>\n",
       "    <tr>\n",
       "      <td>4</td>\n",
       "      <td>age &lt;= 5</td>\n",
       "      <td>0.704545</td>\n",
       "    </tr>\n",
       "    <tr>\n",
       "      <td>2</td>\n",
       "      <td>5 &lt; age &lt;= 15</td>\n",
       "      <td>0.461538</td>\n",
       "    </tr>\n",
       "    <tr>\n",
       "      <td>1</td>\n",
       "      <td>30 &lt; age &lt;= 50</td>\n",
       "      <td>0.423237</td>\n",
       "    </tr>\n",
       "    <tr>\n",
       "      <td>0</td>\n",
       "      <td>15 &lt; age &lt;= 30</td>\n",
       "      <td>0.358896</td>\n",
       "    </tr>\n",
       "    <tr>\n",
       "      <td>3</td>\n",
       "      <td>50 &lt; age &lt;= 75</td>\n",
       "      <td>0.333333</td>\n",
       "    </tr>\n",
       "  </tbody>\n",
       "</table>\n",
       "</div>"
      ],
      "text/plain": [
       "     age_interval  Survived\n",
       "5        age > 75  1.000000\n",
       "4        age <= 5  0.704545\n",
       "2   5 < age <= 15  0.461538\n",
       "1  30 < age <= 50  0.423237\n",
       "0  15 < age <= 30  0.358896\n",
       "3  50 < age <= 75  0.333333"
      ]
     },
     "execution_count": 504,
     "metadata": {},
     "output_type": "execute_result"
    }
   ],
   "source": [
    "def child_adult_elderly(x):\n",
    "    if x <= 5:\n",
    "        return 'age <= 5'\n",
    "    elif 5 < x <= 15:\n",
    "        return '5 < age <= 15'\n",
    "    elif 15 < x <= 30:\n",
    "        return '15 < age <= 30'\n",
    "    elif 30 < x <= 50:\n",
    "        return '30 < age <= 50'\n",
    "    elif 50 < x <= 75:\n",
    "        return '50 < age <= 75'\n",
    "    elif x > 75:\n",
    "        return 'age > 75'\n",
    "\n",
    "df_train['age_interval'] = df_train['Age'].apply(lambda x: child_adult_elderly(x))\n",
    "\n",
    "df_train[['age_interval', 'Survived']].groupby(['age_interval'], as_index=False).mean().sort_values(by='Survived', ascending=False)"
   ]
  },
  {
   "cell_type": "code",
   "execution_count": 505,
   "metadata": {},
   "outputs": [
    {
     "data": {
      "text/html": [
       "<div>\n",
       "<style scoped>\n",
       "    .dataframe tbody tr th:only-of-type {\n",
       "        vertical-align: middle;\n",
       "    }\n",
       "\n",
       "    .dataframe tbody tr th {\n",
       "        vertical-align: top;\n",
       "    }\n",
       "\n",
       "    .dataframe thead th {\n",
       "        text-align: right;\n",
       "    }\n",
       "</style>\n",
       "<table border=\"1\" class=\"dataframe\">\n",
       "  <thead>\n",
       "    <tr style=\"text-align: right;\">\n",
       "      <th></th>\n",
       "      <th>Embarked</th>\n",
       "      <th>Survived</th>\n",
       "    </tr>\n",
       "  </thead>\n",
       "  <tbody>\n",
       "    <tr>\n",
       "      <td>0</td>\n",
       "      <td>C</td>\n",
       "      <td>0.553571</td>\n",
       "    </tr>\n",
       "    <tr>\n",
       "      <td>1</td>\n",
       "      <td>Q</td>\n",
       "      <td>0.389610</td>\n",
       "    </tr>\n",
       "    <tr>\n",
       "      <td>2</td>\n",
       "      <td>S</td>\n",
       "      <td>0.336957</td>\n",
       "    </tr>\n",
       "  </tbody>\n",
       "</table>\n",
       "</div>"
      ],
      "text/plain": [
       "  Embarked  Survived\n",
       "0        C  0.553571\n",
       "1        Q  0.389610\n",
       "2        S  0.336957"
      ]
     },
     "execution_count": 505,
     "metadata": {},
     "output_type": "execute_result"
    }
   ],
   "source": [
    "df_train[['Embarked', 'Survived']].groupby(['Embarked'], as_index=False).mean().sort_values(by='Survived', ascending=False)"
   ]
  },
  {
   "cell_type": "markdown",
   "metadata": {},
   "source": [
    "### Observations:\n",
    "\n",
    "Age: age correlates with the survival rate. Main conclusions are:\n",
    "   - elderlies (older then 75 years) survived\n",
    "   - small children (younger then 5 years of age) had high survival rate (70 %)\n",
    "   - children of age between 5 and 15 years of age had 46 % survival rate\n",
    "   - similar results was observed for the adults up to 50 years of age (42 %)\n",
    "   - young people and group between 50 and 75 years of age has low survival rate 35 % and 33 % respectively\n",
    "    \n",
    "Siblings/spouse: People travelling with siblings or spouse up to the number of three managed to survive more often then people travelling with more siblings/spouse.\n",
    "    \n",
    "Parents/children: People with maximum 3 parents / childrens vere more likely to survieve (above 50 %) then lonesome travelers and people with more parents / childrens (below 34 %)\n",
    "    \n",
    "Sex: Females was far more likely to survive then males (74 % compare to 19 %)\n",
    "    \n",
    "Pclass: People from the first class were more likely to survive then people from other classes.\n",
    "\n",
    "Embarked: Most people who survived embarked in the C (Cherbourg) port \n",
    "\n"
   ]
  },
  {
   "cell_type": "markdown",
   "metadata": {},
   "source": [
    "### Selecting features\n",
    "\n",
    "#### Unused features\n",
    "- Name variable will be dropped. It does not contribute to the survival rate\n",
    "- Cabin feature will be also dropped as it consists of large number of NaN\n",
    "- Ticket will be dropped as well.\n",
    "\n",
    "#### Assumptions\n",
    "Individual assumtions will be analysed based on the data visualization\n",
    "\n",
    "1) Age contributes to survival rate\n",
    "\n",
    "2) Sex contributes to survival rate\n",
    "\n",
    "3) Pclass, fare correlates with survival rate\n",
    "\n",
    "4) Embarked feature contributes to the survival rate\n",
    "\n",
    "5) Greater number of siblings/spouse (more then 3) reduce the survivability \n",
    "\n",
    "6) Greater number of parents/children (more then 3) reduce the survivability \n",
    "\n"
   ]
  },
  {
   "cell_type": "markdown",
   "metadata": {},
   "source": [
    "##### Testing assumption 1\n",
    "\n",
    "Age contributes to survival rate"
   ]
  },
  {
   "cell_type": "code",
   "execution_count": 506,
   "metadata": {},
   "outputs": [
    {
     "data": {
      "text/plain": [
       "Text(0, 0.5, 'Count')"
      ]
     },
     "execution_count": 506,
     "metadata": {},
     "output_type": "execute_result"
    },
    {
     "data": {
      "text/plain": [
       "Text(0.5, 1.0, 'Histogram died/survived ratio')"
      ]
     },
     "execution_count": 506,
     "metadata": {},
     "output_type": "execute_result"
    },
    {
     "data": {
      "text/plain": [
       "Text(0.5, 0, 'Age')"
      ]
     },
     "execution_count": 506,
     "metadata": {},
     "output_type": "execute_result"
    },
    {
     "data": {
      "text/plain": [
       "<matplotlib.legend.Legend at 0x545b0195c8>"
      ]
     },
     "execution_count": 506,
     "metadata": {},
     "output_type": "execute_result"
    },
    {
     "data": {
      "image/png": "[encoded data removed]",
      "text/plain": [
       "<Figure size 576x432 with 1 Axes>"
      ]
     },
     "metadata": {},
     "output_type": "display_data"
    }
   ],
   "source": [
    "## Age histogram with survived/died ratio\n",
    "data_reduced = df_train.drop(['Name', 'Ticket', 'Cabin'], axis=1)\n",
    "\n",
    "# Select data without NaN\n",
    "data_reduced = data_reduced.dropna().reset_index(drop=True)\n",
    "# Round age\n",
    "data_reduced['Age'] = data_reduced['Age'].apply(lambda x: round(x))\n",
    "\n",
    "N_bars = data_reduced['Age'].max()\n",
    "survived = data_reduced['Age'].loc[data_reduced['Survived'] == 1].value_counts()\n",
    "died = data_reduced['Age'].loc[data_reduced['Survived'] == 0].value_counts()\n",
    "\n",
    "for i in range(N_bars+1):\n",
    "    if i not in survived:\n",
    "        s = pd.Series([0], index=[i])\n",
    "        survived = survived.append(s)\n",
    "    if i not in died:\n",
    "        s = pd.Series([0], index=[i])\n",
    "        died = died.append(s)  \n",
    "        \n",
    "survived = survived.sort_index()\n",
    "died = died.sort_index()\n",
    "ind = np.arange(N_bars+1)\n",
    "width = 1\n",
    "\n",
    "fig = plt.figure(figsize=(8,6))\n",
    "p1 = plt.bar(ind, survived.values, width)\n",
    "p2 = plt.bar(ind, died.values, width, bottom=survived.values)\n",
    "plt.ylabel('Count')\n",
    "plt.title('Histogram died/survived ratio')\n",
    "plt.xlabel('Age')\n",
    "plt.legend((p1[0], p2[0]), ('Survived', 'Died'))\n",
    "\n",
    "plt.show()"
   ]
  },
  {
   "cell_type": "markdown",
   "metadata": {},
   "source": [
    "##### Assumption 1 - Age feature conclusion\n",
    "As seen from the figure above, most people were between 20 and 40 years old. This group also suffered the most as it recoded highest death ratio of all groupes.\n",
    "\n",
    "Age will be used in following analysis"
   ]
  },
  {
   "cell_type": "markdown",
   "metadata": {},
   "source": [
    "##### Testing assumption 2, 3 and 4\n",
    "\n",
    " - Sex contributes to survival rate\n",
    " - Pclass correlates with survival rate\n",
    " - Embarked feature contributes to the survival rate"
   ]
  },
  {
   "cell_type": "code",
   "execution_count": 507,
   "metadata": {},
   "outputs": [
    {
     "data": {
      "text/plain": [
       "Text(0, 0.5, 'Count')"
      ]
     },
     "execution_count": 507,
     "metadata": {},
     "output_type": "execute_result"
    },
    {
     "data": {
      "text/plain": [
       "Text(0.5, 1.0, 'Survived/died - gender comparison')"
      ]
     },
     "execution_count": 507,
     "metadata": {},
     "output_type": "execute_result"
    },
    {
     "data": {
      "text/plain": [
       "[<matplotlib.axis.XTick at 0x545c31a388>,\n",
       " <matplotlib.axis.XTick at 0x545b6af7c8>]"
      ]
     },
     "execution_count": 507,
     "metadata": {},
     "output_type": "execute_result"
    },
    {
     "data": {
      "text/plain": [
       "[Text(0, 0, 'Died'), Text(0, 0, 'Survived')]"
      ]
     },
     "execution_count": 507,
     "metadata": {},
     "output_type": "execute_result"
    },
    {
     "data": {
      "text/plain": [
       "<matplotlib.legend.Legend at 0x545b215fc8>"
      ]
     },
     "execution_count": 507,
     "metadata": {},
     "output_type": "execute_result"
    },
    {
     "data": {
      "image/png": "[encoded data removed]",
      "text/plain": [
       "<Figure size 576x432 with 1 Axes>"
      ]
     },
     "metadata": {},
     "output_type": "display_data"
    }
   ],
   "source": [
    "# Survived / died ratio - gender comparison\n",
    "females_fare = df_train['Survived'].loc[df_train['Sex'] == 'female'].value_counts()\n",
    "male_fare = df_train['Survived'].loc[df_train['Sex'] == 'male'].value_counts()\n",
    "\n",
    "N = len(females_fare)\n",
    "ind = np.arange(N)\n",
    "width = 0.35\n",
    "labels = ['Died', 'Survived']\n",
    "\n",
    "fig, ax = plt.subplots()\n",
    "fig.set_figwidth(8)\n",
    "fig.set_figheight(6)\n",
    "man = ax.bar(ind + width/2, male_fare, width, label='Man')\n",
    "woman = ax.bar(ind - width/2, females_fare, width, label='Woman')\n",
    "\n",
    "ax.set_ylabel('Count')\n",
    "ax.set_title('Survived/died - gender comparison')\n",
    "ax.set_xticks(ind)\n",
    "ax.set_xticklabels(labels)\n",
    "ax.legend()\n",
    "\n",
    "def autolabel(rects):\n",
    "    \"\"\"Attach a text label above each bar in *rects*, displaying its height.\"\"\"\n",
    "    for rect in rects:\n",
    "        height = rect.get_height()\n",
    "        ax.annotate('{}'.format(height),\n",
    "                    xy=(rect.get_x() + rect.get_width() / 2, height),\n",
    "                    xytext=(0, 3),  # 3 points vertical offset\n",
    "                    textcoords=\"offset points\",\n",
    "                    ha='center', va='bottom')\n",
    "        \n",
    "autolabel(man)\n",
    "autolabel(woman)\n",
    "\n",
    "plt.show()"
   ]
  },
  {
   "cell_type": "code",
   "execution_count": 508,
   "metadata": {},
   "outputs": [
    {
     "name": "stderr",
     "output_type": "stream",
     "text": [
      "C:\\Users\\Honza\\Anaconda3\\lib\\site-packages\\seaborn\\axisgrid.py:715: UserWarning:\n",
      "\n",
      "Using the barplot function without specifying `order` is likely to produce an incorrect plot.\n",
      "\n",
      "C:\\Users\\Honza\\Anaconda3\\lib\\site-packages\\seaborn\\axisgrid.py:720: UserWarning:\n",
      "\n",
      "Using the barplot function without specifying `hue_order` is likely to produce an incorrect plot.\n",
      "\n"
     ]
    },
    {
     "data": {
      "text/plain": [
       "<seaborn.axisgrid.FacetGrid at 0x545b1f8388>"
      ]
     },
     "execution_count": 508,
     "metadata": {},
     "output_type": "execute_result"
    },
    {
     "data": {
      "text/plain": [
       "<seaborn.axisgrid.FacetGrid at 0x545b1f8388>"
      ]
     },
     "execution_count": 508,
     "metadata": {},
     "output_type": "execute_result"
    },
    {
     "data": {
      "image/png": "[encoded data removed]",
      "text/plain": [
       "<Figure size 476.05x864 with 3 Axes>"
      ]
     },
     "metadata": {},
     "output_type": "display_data"
    }
   ],
   "source": [
    "grid = sns.FacetGrid(df_train, row='Embarked', height=4, aspect=1.4)\n",
    "grid.map(sns.barplot, 'Pclass', 'Survived', 'Sex', palette='muted')\n",
    "grid.add_legend()"
   ]
  },
  {
   "cell_type": "code",
   "execution_count": 509,
   "metadata": {},
   "outputs": [
    {
     "data": {
      "text/plain": [
       "PassengerId   -0.035144\n",
       "Survived      -0.338481\n",
       "Pclass         1.000000\n",
       "Age           -0.369226\n",
       "SibSp          0.083081\n",
       "Parch          0.018443\n",
       "Fare          -0.549500\n",
       "Name: Pclass, dtype: float64"
      ]
     },
     "execution_count": 509,
     "metadata": {},
     "output_type": "execute_result"
    }
   ],
   "source": [
    "corre = df_train.corr()\n",
    "corre['Pclass']"
   ]
  },
  {
   "cell_type": "code",
   "execution_count": 510,
   "metadata": {},
   "outputs": [
    {
     "data": {
      "image/png": "[encoded data removed]",
      "text/plain": [
       "<Figure size 576x432 with 1 Axes>"
      ]
     },
     "metadata": {},
     "output_type": "display_data"
    }
   ],
   "source": [
    "fig, ax = plt.subplots()\n",
    "fig.set_figwidth(8)\n",
    "fig.set_figheight(6)\n",
    "ax = sns.barplot(x=\"Pclass\", y=\"Survived\", hue=\"Sex\", data=df_train)\n",
    "plt.show()"
   ]
  },
  {
   "cell_type": "markdown",
   "metadata": {},
   "source": [
    "##### Assumption 2 - sex feature conclusion\n",
    "As seen from the figure above, females were more likely to survive the males. \n",
    "\n",
    "Sex will be used in following analysis"
   ]
  },
  {
   "cell_type": "markdown",
   "metadata": {},
   "source": [
    "##### Assumption 3 - Pclass feature conclusion\n",
    "People from the 1st class were more likely to survive then the other groups.\n",
    "\n",
    "PClass will be used in following analysis. Prices in fare feature correlates with the PClass. Fare feature will be therefore also used in the analysis."
   ]
  },
  {
   "cell_type": "markdown",
   "metadata": {},
   "source": [
    "##### Assumption 4 - Embark feature conclusion\n",
    "Each embarking station showed different results. Females showed higher survivability rate when embarked from the S and Q ports. Males on the other hand showed higher survivability rate then females when embarking from the C port.\n",
    "\n",
    "Embark will be used in following analysis"
   ]
  },
  {
   "cell_type": "markdown",
   "metadata": {},
   "source": [
    "##### Testing assumption 5 and 6\n",
    "\n",
    " - Greater number of siblings/spouse (more then 3) reduce the survivability \n",
    " - Greater number of parents/children (more then 3) reduce the survivability "
   ]
  },
  {
   "cell_type": "code",
   "execution_count": 511,
   "metadata": {},
   "outputs": [
    {
     "data": {
      "image/png": "[encoded data removed]",
      "text/plain": [
       "<Figure size 576x432 with 1 Axes>"
      ]
     },
     "metadata": {},
     "output_type": "display_data"
    }
   ],
   "source": [
    "# Count plot for SibSp\n",
    "fig, ax = plt.subplots()\n",
    "fig.set_figwidth(8)\n",
    "fig.set_figheight(6)\n",
    "ax = sns.countplot(x=\"SibSp\", data=df_train)\n",
    "plt.show()"
   ]
  },
  {
   "cell_type": "code",
   "execution_count": 512,
   "metadata": {},
   "outputs": [
    {
     "data": {
      "image/png": "[encoded data removed]",
      "text/plain": [
       "<Figure size 576x432 with 1 Axes>"
      ]
     },
     "metadata": {},
     "output_type": "display_data"
    }
   ],
   "source": [
    "fig, ax = plt.subplots()\n",
    "fig.set_figwidth(8)\n",
    "fig.set_figheight(6)\n",
    "ax = sns.barplot(x=\"SibSp\", y=\"Survived\", data=df_train)\n",
    "plt.show()"
   ]
  },
  {
   "cell_type": "code",
   "execution_count": 513,
   "metadata": {},
   "outputs": [
    {
     "data": {
      "image/png": "[encoded data removed]",
      "text/plain": [
       "<Figure size 576x432 with 1 Axes>"
      ]
     },
     "metadata": {},
     "output_type": "display_data"
    }
   ],
   "source": [
    "# Count plot for SibSp\n",
    "fig, ax = plt.subplots()\n",
    "fig.set_figwidth(8)\n",
    "fig.set_figheight(6)\n",
    "ax = sns.countplot(x=\"Parch\", data=df_train)\n",
    "plt.show()"
   ]
  },
  {
   "cell_type": "code",
   "execution_count": 514,
   "metadata": {},
   "outputs": [
    {
     "data": {
      "image/png": "[encoded data removed]",
      "text/plain": [
       "<Figure size 576x432 with 1 Axes>"
      ]
     },
     "metadata": {},
     "output_type": "display_data"
    }
   ],
   "source": [
    "fig, ax = plt.subplots()\n",
    "fig.set_figwidth(8)\n",
    "fig.set_figheight(6)\n",
    "ax = sns.barplot(x=\"Parch\", y=\"Survived\", data=df_train)\n",
    "plt.show()"
   ]
  },
  {
   "cell_type": "markdown",
   "metadata": {},
   "source": [
    "##### Assumption 5 and 6 - Sibsp a Parch feature conclusion\n",
    "Graphs showed that most of the people has no siblings, spouse/husbends ets. alongside with them. Features alone will therefore disregarded from the furher analysis.\n",
    "\n",
    "Features will be however combined together to create new feature called accompanied."
   ]
  },
  {
   "cell_type": "markdown",
   "metadata": {},
   "source": [
    "### Data preprocessing"
   ]
  },
  {
   "cell_type": "code",
   "execution_count": 515,
   "metadata": {},
   "outputs": [
    {
     "data": {
      "text/html": [
       "<div>\n",
       "<style scoped>\n",
       "    .dataframe tbody tr th:only-of-type {\n",
       "        vertical-align: middle;\n",
       "    }\n",
       "\n",
       "    .dataframe tbody tr th {\n",
       "        vertical-align: top;\n",
       "    }\n",
       "\n",
       "    .dataframe thead th {\n",
       "        text-align: right;\n",
       "    }\n",
       "</style>\n",
       "<table border=\"1\" class=\"dataframe\">\n",
       "  <thead>\n",
       "    <tr style=\"text-align: right;\">\n",
       "      <th></th>\n",
       "      <th>PassengerId</th>\n",
       "      <th>Survived</th>\n",
       "      <th>Pclass</th>\n",
       "      <th>Name</th>\n",
       "      <th>Sex</th>\n",
       "      <th>Age</th>\n",
       "      <th>SibSp</th>\n",
       "      <th>Parch</th>\n",
       "      <th>Ticket</th>\n",
       "      <th>Fare</th>\n",
       "      <th>Cabin</th>\n",
       "      <th>Embarked</th>\n",
       "      <th>age_interval</th>\n",
       "    </tr>\n",
       "  </thead>\n",
       "  <tbody>\n",
       "    <tr>\n",
       "      <td>0</td>\n",
       "      <td>1</td>\n",
       "      <td>0</td>\n",
       "      <td>3</td>\n",
       "      <td>Braund, Mr. Owen Harris</td>\n",
       "      <td>male</td>\n",
       "      <td>22.0</td>\n",
       "      <td>1</td>\n",
       "      <td>0</td>\n",
       "      <td>A/5 21171</td>\n",
       "      <td>7.2500</td>\n",
       "      <td>NaN</td>\n",
       "      <td>S</td>\n",
       "      <td>15 &lt; age &lt;= 30</td>\n",
       "    </tr>\n",
       "    <tr>\n",
       "      <td>1</td>\n",
       "      <td>2</td>\n",
       "      <td>1</td>\n",
       "      <td>1</td>\n",
       "      <td>Cumings, Mrs. John Bradley (Florence Briggs Th...</td>\n",
       "      <td>female</td>\n",
       "      <td>38.0</td>\n",
       "      <td>1</td>\n",
       "      <td>0</td>\n",
       "      <td>PC 17599</td>\n",
       "      <td>71.2833</td>\n",
       "      <td>C85</td>\n",
       "      <td>C</td>\n",
       "      <td>30 &lt; age &lt;= 50</td>\n",
       "    </tr>\n",
       "    <tr>\n",
       "      <td>2</td>\n",
       "      <td>3</td>\n",
       "      <td>1</td>\n",
       "      <td>3</td>\n",
       "      <td>Heikkinen, Miss. Laina</td>\n",
       "      <td>female</td>\n",
       "      <td>26.0</td>\n",
       "      <td>0</td>\n",
       "      <td>0</td>\n",
       "      <td>STON/O2. 3101282</td>\n",
       "      <td>7.9250</td>\n",
       "      <td>NaN</td>\n",
       "      <td>S</td>\n",
       "      <td>15 &lt; age &lt;= 30</td>\n",
       "    </tr>\n",
       "    <tr>\n",
       "      <td>3</td>\n",
       "      <td>4</td>\n",
       "      <td>1</td>\n",
       "      <td>1</td>\n",
       "      <td>Futrelle, Mrs. Jacques Heath (Lily May Peel)</td>\n",
       "      <td>female</td>\n",
       "      <td>35.0</td>\n",
       "      <td>1</td>\n",
       "      <td>0</td>\n",
       "      <td>113803</td>\n",
       "      <td>53.1000</td>\n",
       "      <td>C123</td>\n",
       "      <td>S</td>\n",
       "      <td>30 &lt; age &lt;= 50</td>\n",
       "    </tr>\n",
       "    <tr>\n",
       "      <td>4</td>\n",
       "      <td>5</td>\n",
       "      <td>0</td>\n",
       "      <td>3</td>\n",
       "      <td>Allen, Mr. William Henry</td>\n",
       "      <td>male</td>\n",
       "      <td>35.0</td>\n",
       "      <td>0</td>\n",
       "      <td>0</td>\n",
       "      <td>373450</td>\n",
       "      <td>8.0500</td>\n",
       "      <td>NaN</td>\n",
       "      <td>S</td>\n",
       "      <td>30 &lt; age &lt;= 50</td>\n",
       "    </tr>\n",
       "  </tbody>\n",
       "</table>\n",
       "</div>"
      ],
      "text/plain": [
       "   PassengerId  Survived  Pclass  \\\n",
       "0            1         0       3   \n",
       "1            2         1       1   \n",
       "2            3         1       3   \n",
       "3            4         1       1   \n",
       "4            5         0       3   \n",
       "\n",
       "                                                Name     Sex   Age  SibSp  \\\n",
       "0                            Braund, Mr. Owen Harris    male  22.0      1   \n",
       "1  Cumings, Mrs. John Bradley (Florence Briggs Th...  female  38.0      1   \n",
       "2                             Heikkinen, Miss. Laina  female  26.0      0   \n",
       "3       Futrelle, Mrs. Jacques Heath (Lily May Peel)  female  35.0      1   \n",
       "4                           Allen, Mr. William Henry    male  35.0      0   \n",
       "\n",
       "   Parch            Ticket     Fare Cabin Embarked    age_interval  \n",
       "0      0         A/5 21171   7.2500   NaN        S  15 < age <= 30  \n",
       "1      0          PC 17599  71.2833   C85        C  30 < age <= 50  \n",
       "2      0  STON/O2. 3101282   7.9250   NaN        S  15 < age <= 30  \n",
       "3      0            113803  53.1000  C123        S  30 < age <= 50  \n",
       "4      0            373450   8.0500   NaN        S  30 < age <= 50  "
      ]
     },
     "execution_count": 515,
     "metadata": {},
     "output_type": "execute_result"
    }
   ],
   "source": [
    "df_train.head()"
   ]
  },
  {
   "cell_type": "markdown",
   "metadata": {},
   "source": [
    "#### Encoding Sex\n",
    "\n",
    "sex will be encoded as follows: male = 0, female = 1\n"
   ]
  },
  {
   "cell_type": "code",
   "execution_count": 516,
   "metadata": {},
   "outputs": [],
   "source": [
    "# df_train['Sex_encode'] = df_train['Sex'].apply(lambda x: 0 if x == 'male' else 1)\n",
    "# df_train = df_train.drop(['Sex'], axis=1)\n",
    "\n",
    "# Encode the Pclass into separate columns\n",
    "df_sex = pd.get_dummies(df_train['Sex'])"
   ]
  },
  {
   "cell_type": "code",
   "execution_count": 517,
   "metadata": {},
   "outputs": [],
   "source": [
    "# Encode the Pclass into separate columns\n",
    "df_class = pd.get_dummies(df_train['Pclass']).rename(columns={1: \"1st\", 2: \"2nd\", 3: \"3rd\"})\n",
    "\n",
    "# Encode the Embarked into separate columns\n",
    "df_embarked = pd.get_dummies(df_train['Embarked']).rename(columns={\"C\": \"Cherbourg\", \"Q\": \"Queenstown\", \"S\": \"Southampton\"})\n"
   ]
  },
  {
   "cell_type": "code",
   "execution_count": 518,
   "metadata": {},
   "outputs": [],
   "source": [
    "train_data = pd.concat([df_train, df_sex, df_class, df_embarked], axis=1).drop(['Pclass', 'Name', 'Ticket', 'Cabin', 'Sex', 'Embarked'], axis=1)"
   ]
  },
  {
   "cell_type": "code",
   "execution_count": 519,
   "metadata": {},
   "outputs": [],
   "source": [
    "# Imputing the missing data in Age feature using the mean strategy\n",
    "from sklearn.impute import SimpleImputer\n",
    "imp = SimpleImputer(missing_values=np.nan, strategy='mean')\n",
    "data_to_fill = train_data['Age'].values.reshape(-1,1)\n",
    "imp = imp.fit(data_to_fill)\n",
    "imputed_data = imp.transform(data_to_fill).round()\n",
    "train_data['Age'] = imputed_data\n",
    "train_data['age_interval'] = train_data['Age'].apply(lambda x: child_adult_elderly(x))"
   ]
  },
  {
   "cell_type": "code",
   "execution_count": 520,
   "metadata": {},
   "outputs": [],
   "source": [
    "# Encode the age interval feature into separate columns\n",
    "df_age_interval = pd.get_dummies(train_data['age_interval'])\n"
   ]
  },
  {
   "cell_type": "code",
   "execution_count": 521,
   "metadata": {},
   "outputs": [
    {
     "data": {
      "text/html": [
       "<div>\n",
       "<style scoped>\n",
       "    .dataframe tbody tr th:only-of-type {\n",
       "        vertical-align: middle;\n",
       "    }\n",
       "\n",
       "    .dataframe tbody tr th {\n",
       "        vertical-align: top;\n",
       "    }\n",
       "\n",
       "    .dataframe thead th {\n",
       "        text-align: right;\n",
       "    }\n",
       "</style>\n",
       "<table border=\"1\" class=\"dataframe\">\n",
       "  <thead>\n",
       "    <tr style=\"text-align: right;\">\n",
       "      <th></th>\n",
       "      <th>PassengerId</th>\n",
       "      <th>Survived</th>\n",
       "      <th>SibSp</th>\n",
       "      <th>Parch</th>\n",
       "      <th>Fare</th>\n",
       "      <th>female</th>\n",
       "      <th>male</th>\n",
       "      <th>1st</th>\n",
       "      <th>2nd</th>\n",
       "      <th>3rd</th>\n",
       "      <th>Cherbourg</th>\n",
       "      <th>Queenstown</th>\n",
       "      <th>Southampton</th>\n",
       "      <th>15 &lt; age &lt;= 30</th>\n",
       "      <th>30 &lt; age &lt;= 50</th>\n",
       "      <th>5 &lt; age &lt;= 15</th>\n",
       "      <th>50 &lt; age &lt;= 75</th>\n",
       "      <th>age &lt;= 5</th>\n",
       "      <th>age &gt; 75</th>\n",
       "    </tr>\n",
       "  </thead>\n",
       "  <tbody>\n",
       "    <tr>\n",
       "      <td>0</td>\n",
       "      <td>1</td>\n",
       "      <td>0</td>\n",
       "      <td>1</td>\n",
       "      <td>0</td>\n",
       "      <td>7.2500</td>\n",
       "      <td>0</td>\n",
       "      <td>1</td>\n",
       "      <td>0</td>\n",
       "      <td>0</td>\n",
       "      <td>1</td>\n",
       "      <td>0</td>\n",
       "      <td>0</td>\n",
       "      <td>1</td>\n",
       "      <td>1</td>\n",
       "      <td>0</td>\n",
       "      <td>0</td>\n",
       "      <td>0</td>\n",
       "      <td>0</td>\n",
       "      <td>0</td>\n",
       "    </tr>\n",
       "    <tr>\n",
       "      <td>1</td>\n",
       "      <td>2</td>\n",
       "      <td>1</td>\n",
       "      <td>1</td>\n",
       "      <td>0</td>\n",
       "      <td>71.2833</td>\n",
       "      <td>1</td>\n",
       "      <td>0</td>\n",
       "      <td>1</td>\n",
       "      <td>0</td>\n",
       "      <td>0</td>\n",
       "      <td>1</td>\n",
       "      <td>0</td>\n",
       "      <td>0</td>\n",
       "      <td>0</td>\n",
       "      <td>1</td>\n",
       "      <td>0</td>\n",
       "      <td>0</td>\n",
       "      <td>0</td>\n",
       "      <td>0</td>\n",
       "    </tr>\n",
       "    <tr>\n",
       "      <td>2</td>\n",
       "      <td>3</td>\n",
       "      <td>1</td>\n",
       "      <td>0</td>\n",
       "      <td>0</td>\n",
       "      <td>7.9250</td>\n",
       "      <td>1</td>\n",
       "      <td>0</td>\n",
       "      <td>0</td>\n",
       "      <td>0</td>\n",
       "      <td>1</td>\n",
       "      <td>0</td>\n",
       "      <td>0</td>\n",
       "      <td>1</td>\n",
       "      <td>1</td>\n",
       "      <td>0</td>\n",
       "      <td>0</td>\n",
       "      <td>0</td>\n",
       "      <td>0</td>\n",
       "      <td>0</td>\n",
       "    </tr>\n",
       "    <tr>\n",
       "      <td>3</td>\n",
       "      <td>4</td>\n",
       "      <td>1</td>\n",
       "      <td>1</td>\n",
       "      <td>0</td>\n",
       "      <td>53.1000</td>\n",
       "      <td>1</td>\n",
       "      <td>0</td>\n",
       "      <td>1</td>\n",
       "      <td>0</td>\n",
       "      <td>0</td>\n",
       "      <td>0</td>\n",
       "      <td>0</td>\n",
       "      <td>1</td>\n",
       "      <td>0</td>\n",
       "      <td>1</td>\n",
       "      <td>0</td>\n",
       "      <td>0</td>\n",
       "      <td>0</td>\n",
       "      <td>0</td>\n",
       "    </tr>\n",
       "    <tr>\n",
       "      <td>4</td>\n",
       "      <td>5</td>\n",
       "      <td>0</td>\n",
       "      <td>0</td>\n",
       "      <td>0</td>\n",
       "      <td>8.0500</td>\n",
       "      <td>0</td>\n",
       "      <td>1</td>\n",
       "      <td>0</td>\n",
       "      <td>0</td>\n",
       "      <td>1</td>\n",
       "      <td>0</td>\n",
       "      <td>0</td>\n",
       "      <td>1</td>\n",
       "      <td>0</td>\n",
       "      <td>1</td>\n",
       "      <td>0</td>\n",
       "      <td>0</td>\n",
       "      <td>0</td>\n",
       "      <td>0</td>\n",
       "    </tr>\n",
       "  </tbody>\n",
       "</table>\n",
       "</div>"
      ],
      "text/plain": [
       "   PassengerId  Survived  SibSp  Parch     Fare  female  male  1st  2nd  3rd  \\\n",
       "0            1         0      1      0   7.2500       0     1    0    0    1   \n",
       "1            2         1      1      0  71.2833       1     0    1    0    0   \n",
       "2            3         1      0      0   7.9250       1     0    0    0    1   \n",
       "3            4         1      1      0  53.1000       1     0    1    0    0   \n",
       "4            5         0      0      0   8.0500       0     1    0    0    1   \n",
       "\n",
       "   Cherbourg  Queenstown  Southampton  15 < age <= 30  30 < age <= 50  \\\n",
       "0          0           0            1               1               0   \n",
       "1          1           0            0               0               1   \n",
       "2          0           0            1               1               0   \n",
       "3          0           0            1               0               1   \n",
       "4          0           0            1               0               1   \n",
       "\n",
       "   5 < age <= 15  50 < age <= 75  age <= 5  age > 75  \n",
       "0              0               0         0         0  \n",
       "1              0               0         0         0  \n",
       "2              0               0         0         0  \n",
       "3              0               0         0         0  \n",
       "4              0               0         0         0  "
      ]
     },
     "execution_count": 521,
     "metadata": {},
     "output_type": "execute_result"
    }
   ],
   "source": [
    "# Concat encoded age intervals to train data and drop age and age_interval features\n",
    "train_data = pd.concat([train_data, df_age_interval], axis=1).drop(['Age', 'age_interval'], axis=1)\n",
    "train_data.head()"
   ]
  },
  {
   "cell_type": "code",
   "execution_count": 522,
   "metadata": {},
   "outputs": [],
   "source": [
    "# Travelling alone or with someone creating new feature\n",
    "train_data['accompanied'] = train_data.apply(lambda row: 1 if row['SibSp'] > 0 or row['Parch'] > 0 else 0, axis=1)"
   ]
  },
  {
   "cell_type": "code",
   "execution_count": 523,
   "metadata": {},
   "outputs": [],
   "source": [
    "# Drop SibSp and Parch\n",
    "train_data = train_data.drop(['SibSp', 'Parch'], axis=1)"
   ]
  },
  {
   "cell_type": "code",
   "execution_count": 524,
   "metadata": {},
   "outputs": [],
   "source": [
    "def fare_intervals(x):\n",
    "    if x <= 10.:\n",
    "        return 'fare < 10'\n",
    "    elif 10 < x <= 20:\n",
    "        return '10 < fare < 20'\n",
    "    elif 20 < x <= 30:\n",
    "        return '20 < fare < 30'\n",
    "    elif 30 < x <= 40:\n",
    "        return '30 < fare < 40'\n",
    "    elif 40 < x <= 50:\n",
    "        return '40 < fare < 50'\n",
    "    elif 50 < x <= 100:\n",
    "        return '50 < fare < 100'\n",
    "    elif 100 < x <= 200:\n",
    "        return '100 < fare < 200'\n",
    "    elif x > 200:\n",
    "        return 'fare > 200'\n",
    "\n",
    "\n",
    "train_data['fare_intervals'] = train_data['Fare'].apply(lambda x: fare_intervals(x))"
   ]
  },
  {
   "cell_type": "code",
   "execution_count": 525,
   "metadata": {},
   "outputs": [],
   "source": [
    "# Drop fare\n",
    "train_data = train_data.drop(['Fare'], axis=1)\n",
    "# Encode the intervals\n",
    "df_fare_intervals = pd.get_dummies(train_data['fare_intervals'])"
   ]
  },
  {
   "cell_type": "code",
   "execution_count": 526,
   "metadata": {},
   "outputs": [],
   "source": [
    "train_data = pd.concat([train_data, df_fare_intervals], axis=1).drop(['fare_intervals'], axis=1)"
   ]
  },
  {
   "cell_type": "code",
   "execution_count": 527,
   "metadata": {},
   "outputs": [],
   "source": [
    "# Drop PassangerId\n",
    "train_data = train_data.drop(['PassengerId'], axis=1)"
   ]
  },
  {
   "cell_type": "code",
   "execution_count": 528,
   "metadata": {},
   "outputs": [
    {
     "data": {
      "text/html": [
       "<div>\n",
       "<style scoped>\n",
       "    .dataframe tbody tr th:only-of-type {\n",
       "        vertical-align: middle;\n",
       "    }\n",
       "\n",
       "    .dataframe tbody tr th {\n",
       "        vertical-align: top;\n",
       "    }\n",
       "\n",
       "    .dataframe thead th {\n",
       "        text-align: right;\n",
       "    }\n",
       "</style>\n",
       "<table border=\"1\" class=\"dataframe\">\n",
       "  <thead>\n",
       "    <tr style=\"text-align: right;\">\n",
       "      <th></th>\n",
       "      <th>Survived</th>\n",
       "      <th>female</th>\n",
       "      <th>male</th>\n",
       "      <th>1st</th>\n",
       "      <th>2nd</th>\n",
       "      <th>3rd</th>\n",
       "      <th>Cherbourg</th>\n",
       "      <th>Queenstown</th>\n",
       "      <th>Southampton</th>\n",
       "      <th>15 &lt; age &lt;= 30</th>\n",
       "      <th>30 &lt; age &lt;= 50</th>\n",
       "      <th>5 &lt; age &lt;= 15</th>\n",
       "      <th>50 &lt; age &lt;= 75</th>\n",
       "      <th>age &lt;= 5</th>\n",
       "      <th>age &gt; 75</th>\n",
       "      <th>accompanied</th>\n",
       "      <th>10 &lt; fare &lt; 20</th>\n",
       "      <th>100 &lt; fare &lt; 200</th>\n",
       "      <th>20 &lt; fare &lt; 30</th>\n",
       "      <th>30 &lt; fare &lt; 40</th>\n",
       "      <th>40 &lt; fare &lt; 50</th>\n",
       "      <th>50 &lt; fare &lt; 100</th>\n",
       "      <th>fare &lt; 10</th>\n",
       "      <th>fare &gt; 200</th>\n",
       "    </tr>\n",
       "  </thead>\n",
       "  <tbody>\n",
       "    <tr>\n",
       "      <td>0</td>\n",
       "      <td>0</td>\n",
       "      <td>0</td>\n",
       "      <td>1</td>\n",
       "      <td>0</td>\n",
       "      <td>0</td>\n",
       "      <td>1</td>\n",
       "      <td>0</td>\n",
       "      <td>0</td>\n",
       "      <td>1</td>\n",
       "      <td>1</td>\n",
       "      <td>0</td>\n",
       "      <td>0</td>\n",
       "      <td>0</td>\n",
       "      <td>0</td>\n",
       "      <td>0</td>\n",
       "      <td>1</td>\n",
       "      <td>0</td>\n",
       "      <td>0</td>\n",
       "      <td>0</td>\n",
       "      <td>0</td>\n",
       "      <td>0</td>\n",
       "      <td>0</td>\n",
       "      <td>1</td>\n",
       "      <td>0</td>\n",
       "    </tr>\n",
       "    <tr>\n",
       "      <td>1</td>\n",
       "      <td>1</td>\n",
       "      <td>1</td>\n",
       "      <td>0</td>\n",
       "      <td>1</td>\n",
       "      <td>0</td>\n",
       "      <td>0</td>\n",
       "      <td>1</td>\n",
       "      <td>0</td>\n",
       "      <td>0</td>\n",
       "      <td>0</td>\n",
       "      <td>1</td>\n",
       "      <td>0</td>\n",
       "      <td>0</td>\n",
       "      <td>0</td>\n",
       "      <td>0</td>\n",
       "      <td>1</td>\n",
       "      <td>0</td>\n",
       "      <td>0</td>\n",
       "      <td>0</td>\n",
       "      <td>0</td>\n",
       "      <td>0</td>\n",
       "      <td>1</td>\n",
       "      <td>0</td>\n",
       "      <td>0</td>\n",
       "    </tr>\n",
       "    <tr>\n",
       "      <td>2</td>\n",
       "      <td>1</td>\n",
       "      <td>1</td>\n",
       "      <td>0</td>\n",
       "      <td>0</td>\n",
       "      <td>0</td>\n",
       "      <td>1</td>\n",
       "      <td>0</td>\n",
       "      <td>0</td>\n",
       "      <td>1</td>\n",
       "      <td>1</td>\n",
       "      <td>0</td>\n",
       "      <td>0</td>\n",
       "      <td>0</td>\n",
       "      <td>0</td>\n",
       "      <td>0</td>\n",
       "      <td>0</td>\n",
       "      <td>0</td>\n",
       "      <td>0</td>\n",
       "      <td>0</td>\n",
       "      <td>0</td>\n",
       "      <td>0</td>\n",
       "      <td>0</td>\n",
       "      <td>1</td>\n",
       "      <td>0</td>\n",
       "    </tr>\n",
       "    <tr>\n",
       "      <td>3</td>\n",
       "      <td>1</td>\n",
       "      <td>1</td>\n",
       "      <td>0</td>\n",
       "      <td>1</td>\n",
       "      <td>0</td>\n",
       "      <td>0</td>\n",
       "      <td>0</td>\n",
       "      <td>0</td>\n",
       "      <td>1</td>\n",
       "      <td>0</td>\n",
       "      <td>1</td>\n",
       "      <td>0</td>\n",
       "      <td>0</td>\n",
       "      <td>0</td>\n",
       "      <td>0</td>\n",
       "      <td>1</td>\n",
       "      <td>0</td>\n",
       "      <td>0</td>\n",
       "      <td>0</td>\n",
       "      <td>0</td>\n",
       "      <td>0</td>\n",
       "      <td>1</td>\n",
       "      <td>0</td>\n",
       "      <td>0</td>\n",
       "    </tr>\n",
       "    <tr>\n",
       "      <td>4</td>\n",
       "      <td>0</td>\n",
       "      <td>0</td>\n",
       "      <td>1</td>\n",
       "      <td>0</td>\n",
       "      <td>0</td>\n",
       "      <td>1</td>\n",
       "      <td>0</td>\n",
       "      <td>0</td>\n",
       "      <td>1</td>\n",
       "      <td>0</td>\n",
       "      <td>1</td>\n",
       "      <td>0</td>\n",
       "      <td>0</td>\n",
       "      <td>0</td>\n",
       "      <td>0</td>\n",
       "      <td>0</td>\n",
       "      <td>0</td>\n",
       "      <td>0</td>\n",
       "      <td>0</td>\n",
       "      <td>0</td>\n",
       "      <td>0</td>\n",
       "      <td>0</td>\n",
       "      <td>1</td>\n",
       "      <td>0</td>\n",
       "    </tr>\n",
       "  </tbody>\n",
       "</table>\n",
       "</div>"
      ],
      "text/plain": [
       "   Survived  female  male  1st  2nd  3rd  Cherbourg  Queenstown  Southampton  \\\n",
       "0         0       0     1    0    0    1          0           0            1   \n",
       "1         1       1     0    1    0    0          1           0            0   \n",
       "2         1       1     0    0    0    1          0           0            1   \n",
       "3         1       1     0    1    0    0          0           0            1   \n",
       "4         0       0     1    0    0    1          0           0            1   \n",
       "\n",
       "   15 < age <= 30  30 < age <= 50  5 < age <= 15  50 < age <= 75  age <= 5  \\\n",
       "0               1               0              0               0         0   \n",
       "1               0               1              0               0         0   \n",
       "2               1               0              0               0         0   \n",
       "3               0               1              0               0         0   \n",
       "4               0               1              0               0         0   \n",
       "\n",
       "   age > 75  accompanied  10 < fare < 20  100 < fare < 200  20 < fare < 30  \\\n",
       "0         0            1               0                 0               0   \n",
       "1         0            1               0                 0               0   \n",
       "2         0            0               0                 0               0   \n",
       "3         0            1               0                 0               0   \n",
       "4         0            0               0                 0               0   \n",
       "\n",
       "   30 < fare < 40  40 < fare < 50  50 < fare < 100  fare < 10  fare > 200  \n",
       "0               0               0                0          1           0  \n",
       "1               0               0                1          0           0  \n",
       "2               0               0                0          1           0  \n",
       "3               0               0                1          0           0  \n",
       "4               0               0                0          1           0  "
      ]
     },
     "execution_count": 528,
     "metadata": {},
     "output_type": "execute_result"
    }
   ],
   "source": [
    "train_data.head()"
   ]
  },
  {
   "cell_type": "markdown",
   "metadata": {},
   "source": [
    "# Logistic Regression\n",
    "\n",
    "Logistic regression will be conducted several times.\n",
    "\n",
    "1) Train dataset provided from Kaggle will be splitted into train and test datasets. This approach will be used for education purposes.\n",
    "\n",
    "2) Train dataset proveded by Kaggle will be used whole for the purpose of model training. K-fold cross-validation will be conducted to measure model performance."
   ]
  },
  {
   "cell_type": "markdown",
   "metadata": {},
   "source": [
    "### 1st approach - splitting dataset"
   ]
  },
  {
   "cell_type": "code",
   "execution_count": 529,
   "metadata": {},
   "outputs": [],
   "source": [
    "# Split into train and test dataset:\n",
    "from sklearn.model_selection import train_test_split\n",
    "columns_train = train_data.columns[1:]\n",
    "\n",
    "# Select features\n",
    "y = train_data['Survived']\n",
    "X = train_data[columns_train]\n",
    "\n",
    "# Splitting into train and test dataset\n",
    "X_train, X_test, y_train, y_test = train_test_split(X, y, test_size=0.3, random_state=1)\n"
   ]
  },
  {
   "cell_type": "code",
   "execution_count": 530,
   "metadata": {},
   "outputs": [
    {
     "data": {
      "text/plain": [
       "LogisticRegression(C=1.0, class_weight=None, dual=False, fit_intercept=True,\n",
       "                   intercept_scaling=1, l1_ratio=None, max_iter=500,\n",
       "                   multi_class='warn', n_jobs=None, penalty='l2',\n",
       "                   random_state=42, solver='lbfgs', tol=0.0001, verbose=0,\n",
       "                   warm_start=False)"
      ]
     },
     "execution_count": 530,
     "metadata": {},
     "output_type": "execute_result"
    }
   ],
   "source": [
    "from sklearn.linear_model import LogisticRegression\n",
    "log_reg = LogisticRegression(random_state=42, solver='lbfgs', max_iter=500)\n",
    "log_reg.fit(X_train, y_train)\n",
    "y_pred = log_reg.predict(X_test)"
   ]
  },
  {
   "cell_type": "code",
   "execution_count": 531,
   "metadata": {},
   "outputs": [
    {
     "name": "stdout",
     "output_type": "stream",
     "text": [
      "Train data scored: 82.83 %\n",
      "\n",
      "\n",
      "Test data scored: 78.73 %\n"
     ]
    }
   ],
   "source": [
    "fit_train = round(log_reg.score(X_train, y_train) * 100, 2)\n",
    "print('Train data scored: {} %'.format(fit_train))\n",
    "print('\\n')\n",
    "fit_train = round(log_reg.score(X_test, y_test) * 100, 2)\n",
    "print('Test data scored: {} %'.format(fit_train))"
   ]
  },
  {
   "cell_type": "code",
   "execution_count": 532,
   "metadata": {},
   "outputs": [],
   "source": [
    "probability = log_reg.predict_proba(X_test)[:, 1]\n",
    "log_odds = log_reg.decision_function(X_test)\n",
    "classes = log_reg.predict(X_test)"
   ]
  },
  {
   "cell_type": "code",
   "execution_count": 533,
   "metadata": {},
   "outputs": [
    {
     "data": {
      "text/html": [
       "<div>\n",
       "<style scoped>\n",
       "    .dataframe tbody tr th:only-of-type {\n",
       "        vertical-align: middle;\n",
       "    }\n",
       "\n",
       "    .dataframe tbody tr th {\n",
       "        vertical-align: top;\n",
       "    }\n",
       "\n",
       "    .dataframe thead th {\n",
       "        text-align: right;\n",
       "    }\n",
       "</style>\n",
       "<table border=\"1\" class=\"dataframe\">\n",
       "  <thead>\n",
       "    <tr style=\"text-align: right;\">\n",
       "      <th></th>\n",
       "      <th>probability</th>\n",
       "      <th>log_odds</th>\n",
       "      <th>classes</th>\n",
       "    </tr>\n",
       "  </thead>\n",
       "  <tbody>\n",
       "    <tr>\n",
       "      <td>count</td>\n",
       "      <td>268.000000</td>\n",
       "      <td>268.000000</td>\n",
       "      <td>268.000000</td>\n",
       "    </tr>\n",
       "    <tr>\n",
       "      <td>mean</td>\n",
       "      <td>0.393471</td>\n",
       "      <td>-0.619917</td>\n",
       "      <td>0.373134</td>\n",
       "    </tr>\n",
       "    <tr>\n",
       "      <td>std</td>\n",
       "      <td>0.309650</td>\n",
       "      <td>1.727055</td>\n",
       "      <td>0.484542</td>\n",
       "    </tr>\n",
       "    <tr>\n",
       "      <td>min</td>\n",
       "      <td>0.038995</td>\n",
       "      <td>-3.204558</td>\n",
       "      <td>0.000000</td>\n",
       "    </tr>\n",
       "    <tr>\n",
       "      <td>25%</td>\n",
       "      <td>0.097767</td>\n",
       "      <td>-2.222289</td>\n",
       "      <td>0.000000</td>\n",
       "    </tr>\n",
       "    <tr>\n",
       "      <td>50%</td>\n",
       "      <td>0.303987</td>\n",
       "      <td>-0.828686</td>\n",
       "      <td>0.000000</td>\n",
       "    </tr>\n",
       "    <tr>\n",
       "      <td>75%</td>\n",
       "      <td>0.647198</td>\n",
       "      <td>0.606747</td>\n",
       "      <td>1.000000</td>\n",
       "    </tr>\n",
       "    <tr>\n",
       "      <td>max</td>\n",
       "      <td>0.955202</td>\n",
       "      <td>3.059755</td>\n",
       "      <td>1.000000</td>\n",
       "    </tr>\n",
       "  </tbody>\n",
       "</table>\n",
       "</div>"
      ],
      "text/plain": [
       "       probability    log_odds     classes\n",
       "count   268.000000  268.000000  268.000000\n",
       "mean      0.393471   -0.619917    0.373134\n",
       "std       0.309650    1.727055    0.484542\n",
       "min       0.038995   -3.204558    0.000000\n",
       "25%       0.097767   -2.222289    0.000000\n",
       "50%       0.303987   -0.828686    0.000000\n",
       "75%       0.647198    0.606747    1.000000\n",
       "max       0.955202    3.059755    1.000000"
      ]
     },
     "execution_count": 533,
     "metadata": {},
     "output_type": "execute_result"
    }
   ],
   "source": [
    "yhat = pd.DataFrame(dict(probability=probability, log_odds=log_odds, classes=classes))\n",
    "yhat.describe()"
   ]
  },
  {
   "cell_type": "code",
   "execution_count": 534,
   "metadata": {},
   "outputs": [
    {
     "data": {
      "text/html": [
       "        <script type=\"text/javascript\">\n",
       "        window.PlotlyConfig = {MathJaxConfig: 'local'};\n",
       "        if (window.MathJax) {MathJax.Hub.Config({SVG: {font: \"STIX-Web\"}});}\n",
       "        if (typeof require !== 'undefined') {\n",
       "        require.undef(\"plotly\");\n",
       "        requirejs.config({\n",
       "            paths: {\n",
       "                'plotly': ['https://cdn.plot.ly/plotly-latest.min']\n",
       "            }\n",
       "        });\n",
       "        require(['plotly'], function(Plotly) {\n",
       "            window._Plotly = Plotly;\n",
       "        });\n",
       "        }\n",
       "        </script>\n",
       "        "
      ]
     },
     "metadata": {},
     "output_type": "display_data"
    },
    {
     "data": {
      "text/html": [
       "        <script type=\"text/javascript\">\n",
       "        window.PlotlyConfig = {MathJaxConfig: 'local'};\n",
       "        if (window.MathJax) {MathJax.Hub.Config({SVG: {font: \"STIX-Web\"}});}\n",
       "        if (typeof require !== 'undefined') {\n",
       "        require.undef(\"plotly\");\n",
       "        requirejs.config({\n",
       "            paths: {\n",
       "                'plotly': ['https://cdn.plot.ly/plotly-latest.min']\n",
       "            }\n",
       "        });\n",
       "        require(['plotly'], function(Plotly) {\n",
       "            window._Plotly = Plotly;\n",
       "        });\n",
       "        }\n",
       "        </script>\n",
       "        "
      ]
     },
     "metadata": {},
     "output_type": "display_data"
    }
   ],
   "source": [
    "# Standard Data Science Helpers\n",
    "import numpy as np\n",
    "import pandas as pd\n",
    "import scipy\n",
    "\n",
    "import chart_studio.plotly as py\n",
    "import plotly.graph_objs as go\n",
    "from plotly.offline import iplot, init_notebook_mode\n",
    "init_notebook_mode(connected=True)\n",
    "\n",
    "import cufflinks as cf\n",
    "cf.set_config_file(world_readable=True, theme=\"pearl\")\n",
    "cf.go_offline(connected=True)"
   ]
  },
  {
   "cell_type": "code",
   "execution_count": 535,
   "metadata": {},
   "outputs": [
    {
     "data": {
      "text/plain": [
       "True"
      ]
     },
     "execution_count": 535,
     "metadata": {},
     "output_type": "execute_result"
    }
   ],
   "source": [
    "log_odds = yhat['log_odds']\n",
    "\n",
    "# Exponentiate the log odds\n",
    "odds_ratio = np.exp(log_odds)\n",
    "\n",
    "# Calculate the probabilitiy\n",
    "probability = odds_ratio / (1 + odds_ratio)\n",
    "\n",
    "# Sanity check\n",
    "np.allclose(probability, yhat['probability'].values)"
   ]
  },
  {
   "cell_type": "code",
   "execution_count": 536,
   "metadata": {},
   "outputs": [],
   "source": [
    "yhat['odds_ratio'] = odds_ratio\n",
    "yhat['classes'] = yhat['classes'].map({0: 'Died', 1: 'Survived'})"
   ]
  },
  {
   "cell_type": "code",
   "execution_count": 537,
   "metadata": {},
   "outputs": [
    {
     "data": {
      "application/vnd.plotly.v1+json": {
       "config": {
        "linkText": "Export to plot.ly",
        "plotlyServerURL": "https://plot.ly",
        "showLink": true
       },
       "data": [
        {
         "marker": {
          "color": "rgba(255, 153, 51, 1.0)",
          "line": {
           "width": 1.3
          },
          "opacity": 0.8,
          "size": 12,
          "symbol": "circle"
         },
         "mode": "markers",
         "name": "Died",
         "textfont": {
          "color": "#4D5663"
         },
         "type": "scatter",
         "x": [
          -2.2445137028239865,
          -2.4090109312781283,
          -2.7062901002578745,
          -1.407754190883061,
          -2.0246927073731564,
          -0.11303498269759155,
          -2.4090109312781283,
          -2.4090109312781283,
          -0.3441305024701446,
          -2.5933247697203865,
          -0.7449889335326092,
          -0.3916901721637445,
          -0.8680394485905654,
          -2.783762647721361,
          -1.134217776121646,
          -1.4314969451013924,
          -1.2067653309664985,
          -1.7064694127220326,
          -1.4558418932509074,
          -0.5505614113209332,
          -0.7809190147527814,
          -2.0197820886890923,
          -2.4090109312781283,
          -0.21987627367636325,
          -1.407754190883061,
          -1.2842378784299848,
          -1.4314969451013924,
          -2.415886319581105,
          -0.25328224234118685,
          -0.3137076995923967,
          -0.6432637067429301,
          -2.4090109312781283,
          -1.4314969451013924,
          -2.4090109312781283,
          -1.8291387651830895,
          -3.1039319203395723,
          -2.104398681566106,
          -2.4090109312781283,
          -1.3910791694087563,
          -1.4314969451013924,
          -1.134217776121646,
          -1.4314969451013924,
          -1.349000602272136,
          -2.7062901002578745,
          -2.104398681566106,
          -1.407754190883061,
          -2.783762647721361,
          -2.4090109312781283,
          -2.137672411845215,
          -2.104398681566106,
          -1.134217776121646,
          -1.0781981837325276,
          -0.11303498269759155,
          -2.7062901002578745,
          -0.25328224234118685,
          -2.222289004722229,
          -1.0002157111611798,
          -2.3379038470097573,
          -1.0002157111611798,
          -2.104398681566106,
          -2.7062901002578745,
          -2.7062901002578745,
          -2.7062901002578745,
          -1.134217776121646,
          -0.11303498269759155,
          -0.7029365421814335,
          -0.7809190147527814,
          -2.0197820886890923,
          -1.134217776121646,
          -2.7062901002578745,
          -1.055044522381402,
          -1.4314969451013924,
          -2.4090109312781283,
          -0.5505614113209332,
          -2.7062901002578745,
          -1.838645675292647,
          -2.0197820886890923,
          -0.3027788414012637,
          -0.7893319922454418,
          -0.9482032314026303,
          -1.407754190883061,
          -2.4090109312781283,
          -0.0726172070049555,
          -2.0197820886890923,
          -0.24845576333438063,
          -2.7062901002578745,
          -1.3246556541226209,
          -2.137672411845215,
          -2.104398681566106,
          -2.7062901002578745,
          -2.8906039387001328,
          -2.3379038470097573,
          -0.7809190147527814,
          -2.5994488092791035,
          -0.47308886385744703,
          -2.7062901002578745,
          -3.1763338111412245,
          -0.25328224234118685,
          -2.4090109312781283,
          -2.8241804234139973,
          -1.0781981837325276,
          -0.11815104688668393,
          -0.25328224234118685,
          -1.0781981837325276,
          -2.8906039387001328,
          -2.7062901002578745,
          -2.104398681566106,
          -1.397857531242877,
          -0.7449889335326092,
          -1.7050333598628076,
          -1.134217776121646,
          -2.7062901002578745,
          -1.80711951258636,
          -2.137672411845215,
          -2.526901254434251,
          -2.5994488092791035,
          -2.7062901002578745,
          -1.407754190883061,
          -1.4314969451013924,
          -2.4090109312781283,
          -2.5994488092791035,
          -0.25328224234118685,
          -2.7062901002578745,
          -2.7062901002578745,
          -0.25328224234118685,
          -2.0197820886890923,
          -2.7062901002578745,
          -3.014120251153209,
          -2.7062901002578745,
          -2.7062901002578745,
          -1.4314969451013924,
          -1.397857531242877,
          -0.49341268843777825,
          -1.5497794838055607,
          -2.0197820886890923,
          -1.811874650841579,
          -2.104398681566106,
          -2.3021696402993572,
          -2.7062901002578745,
          -2.5994488092791035,
          -2.7062901002578745,
          -2.4090109312781283,
          -2.7062901002578745,
          -1.4314969451013924,
          -0.7809190147527814,
          -2.7062901002578745,
          -1.4314969451013924,
          -1.6270508872914597,
          -2.7062901002578745,
          -2.7062901002578745,
          -2.8906039387001328,
          -2.104398681566106,
          -2.4090109312781283,
          -2.0197820886890923,
          -0.11815104688668393,
          -2.222289004722229,
          -0.17580969487770076,
          -0.3506195613386764,
          -2.8292964876030897,
          -2.7062901002578745,
          -0.7482613814203738,
          -1.4758400038142248,
          -2.7062901002578745,
          -2.5994488092791035,
          -2.6026667104624153,
          -3.204558129154184,
          -2.0197820886890923,
          -2.7062901002578745
         ],
         "y": [
          0.09582375336254403,
          0.08248814375140634,
          0.0626032103587325,
          0.19658852108631605,
          0.11663462609512529,
          0.4717713042129132,
          0.08248814375140634,
          0.08248814375140634,
          0.414806478848742,
          0.06956926436152373,
          0.3219141660922685,
          0.4033104924621397,
          0.2956624156610816,
          0.05820794481530549,
          0.24338356543134837,
          0.19286554999699657,
          0.23027388871790658,
          0.15362221011374566,
          0.18910412077762342,
          0.365734167083069,
          0.31412185114857755,
          0.1171415252501471,
          0.08248814375140634,
          0.44525132540721146,
          0.19658852108631605,
          0.21682970643872088,
          0.19286554999699657,
          0.08196927936840571,
          0.4370157929666901,
          0.42220999040609797,
          0.34450914711401287,
          0.08248814375140634,
          0.19286554999699657,
          0.08248814375140634,
          0.13834090271300495,
          0.042945358132945824,
          0.1086700271820714,
          0.08248814375140634,
          0.1992355294857441,
          0.19286554999699657,
          0.24338356543134837,
          0.19286554999699657,
          0.20603380912784386,
          0.0626032103587325,
          0.1086700271820714,
          0.19658852108631605,
          0.05820794481530549,
          0.08248814375140634,
          0.10548882131079276,
          0.1086700271820714,
          0.24338356543134837,
          0.25384714507863215,
          0.4717713042129132,
          0.0626032103587325,
          0.4370157929666901,
          0.0977667089164509,
          0.26889901209549766,
          0.08803205378819907,
          0.26889901209549766,
          0.1086700271820714,
          0.0626032103587325,
          0.0626032103587325,
          0.0626032103587325,
          0.24338356543134837,
          0.4717713042129132,
          0.3311614804927936,
          0.31412185114857755,
          0.1171415252501471,
          0.24338356543134837,
          0.0626032103587325,
          0.2582575912423324,
          0.19286554999699657,
          0.08248814375140634,
          0.365734167083069,
          0.0626032103587325,
          0.13721154491687834,
          0.1171415252501471,
          0.42487831324375114,
          0.3123121216295838,
          0.2792463101758607,
          0.19658852108631605,
          0.08248814375140634,
          0.4818536717383783,
          0.1171415252501471,
          0.43820362481174163,
          0.0626032103587325,
          0.21004475678809825,
          0.10548882131079276,
          0.1086700271820714,
          0.0626032103587325,
          0.05262000326759814,
          0.08803205378819907,
          0.31412185114857755,
          0.06917390246630642,
          0.38388541201215504,
          0.0626032103587325,
          0.04006610102095341,
          0.4370157929666901,
          0.08248814375140634,
          0.05603141224907761,
          0.25384714507863215,
          0.4704965518287614,
          0.4370157929666901,
          0.25384714507863215,
          0.05262000326759814,
          0.0626032103587325,
          0.1086700271820714,
          0.1981563089969444,
          0.3219141660922685,
          0.15380902208264383,
          0.24338356543134837,
          0.0626032103587325,
          0.14098661918488284,
          0.10548882131079276,
          0.0739936882969962,
          0.06917390246630642,
          0.0626032103587325,
          0.19658852108631605,
          0.19286554999699657,
          0.08248814375140634,
          0.06917390246630642,
          0.4370157929666901,
          0.0626032103587325,
          0.0626032103587325,
          0.4370157929666901,
          0.1171415252501471,
          0.0626032103587325,
          0.04679202848663333,
          0.0626032103587325,
          0.0626032103587325,
          0.19286554999699657,
          0.1981563089969444,
          0.3790899556416453,
          0.1751181198352666,
          0.1171415252501471,
          0.14041170982458842,
          0.1086700271820714,
          0.09094343167852806,
          0.0626032103587325,
          0.06917390246630642,
          0.0626032103587325,
          0.08248814375140634,
          0.0626032103587325,
          0.19286554999699657,
          0.31412185114857755,
          0.0626032103587325,
          0.19286554999699657,
          0.16423476072596152,
          0.0626032103587325,
          0.0626032103587325,
          0.05262000326759814,
          0.1086700271820714,
          0.08248814375140634,
          0.1171415252501471,
          0.4704965518287614,
          0.0977667089164509,
          0.456160438082495,
          0.41323218713908,
          0.05576142775299662,
          0.0626032103587325,
          0.3212002550668303,
          0.1860565845687581,
          0.0626032103587325,
          0.06917390246630642,
          0.0689669924629162,
          0.03899455218102395,
          0.1171415252501471,
          0.0626032103587325
         ]
        },
        {
         "marker": {
          "color": "rgba(55, 128, 191, 1.0)",
          "line": {
           "width": 1.3
          },
          "opacity": 0.8,
          "size": 12,
          "symbol": "circle"
         },
         "mode": "markers",
         "name": "Survived",
         "textfont": {
          "color": "#4D5663"
         },
         "type": "scatter",
         "x": [
          0.6067467591502991,
          0.2952591211353006,
          0.004855340458530588,
          1.7629422093137759,
          0.3021345094382771,
          0.3732415937066484,
          0.004855340458530588,
          2.4083665993151424,
          0.7135880501290708,
          1.3621448384442703,
          0.004855340458530588,
          0.5734730288711914,
          1.303391249833345,
          1.5671765768301749,
          2.1455012252946792,
          2.2179287213141676,
          1.3621448384442703,
          1.7947838904266773,
          1.6740178678089466,
          1.3864897865937853,
          0.004855340458530588,
          1.8431059921258404,
          0.6913633520273137,
          1.5769276645947599,
          1.0061120808535986,
          1.2796484956150136,
          2.8172262728112334,
          1.9712970367886928,
          1.7629422093137759,
          1.3621448384442703,
          1.303391249833345,
          1.3179933322695945,
          0.6067467591502991,
          1.9302264259636248,
          1.2796484956150136,
          0.004855340458530588,
          1.2796484956150136,
          0.3486091763505818,
          2.1605840293954732,
          0.5535028481294635,
          0.3263844782488246,
          1.0061120808535986,
          0.6067467591502991,
          1.5769276645947599,
          2.7402507499854845,
          1.5769276645947599,
          2.8470920409642564,
          2.0729977981625685,
          0.3455954102819501,
          0.6067467591502991,
          0.8992707898748269,
          0.4332257692275963,
          1.9302264259636248,
          3.0375299189652307,
          1.5590077769925423,
          2.832009236863462,
          0.6067467591502991,
          0.40575789923373673,
          2.2179287213141676,
          2.1455012252946792,
          1.0061120808535986,
          0.029105309269078228,
          2.616734437532408,
          2.4578631983752195,
          3.059754617066988,
          1.2796484956150136,
          0.004855340458530588,
          0.1842441862821549,
          0.1116966314373023,
          0.4332257692275963,
          1.2796484956150136,
          1.424579418766613,
          1.4800351616003924,
          1.0061120808535986,
          2.175161596166864,
          2.0537427384167013,
          0.6067467591502991,
          0.8820066755333165,
          2.3605258793777297,
          0.13594660024784994,
          2.4578631983752195,
          0.13594660024784994,
          2.4626896773820253,
          2.0537427384167013,
          2.4578631983752195,
          2.8470920409642564,
          0.13594660024784994,
          1.8560427683172607,
          0.5734730288711914,
          0.48885643599417694,
          0.6067467591502991,
          1.2763760477272497,
          1.8431059921258404,
          1.5769276645947599,
          2.832009236863462,
          1.9661565071837968,
          1.6329472569838785,
          0.004855340458530588,
          0.5734730288711914,
          1.3864897865937853
         ],
         "y": [
          0.6471983371780882,
          0.5732831625772055,
          0.5012138327300257,
          0.8535777683215571,
          0.5749642322874658,
          0.5922420289166541,
          0.5012138327300257,
          0.917463077604467,
          0.6711935024306732,
          0.7961080690352014,
          0.5012138327300257,
          0.6395641716077419,
          0.7864051715844474,
          0.8273807343900588,
          0.895247634461034,
          0.9018480024212372,
          0.7961080690352014,
          0.8575127945624337,
          0.8421107723412679,
          0.8000312662426575,
          0.5012138327300257,
          0.8633156336968285,
          0.6662701425427205,
          0.8287689601721097,
          0.7322585882149847,
          0.7823899366597603,
          0.9435996319243737,
          0.8777503594812939,
          0.8535777683215571,
          0.7961080690352014,
          0.7864051715844474,
          0.7888476555695773,
          0.6471983371780882,
          0.8732744796883388,
          0.7823899366597603,
          0.5012138327300257,
          0.7823899366597603,
          0.5862802672239202,
          0.8966536806651231,
          0.6349478960524234,
          0.580879405541796,
          0.7322585882149847,
          0.6471983371780882,
          0.8287689601721097,
          0.9393603815928219,
          0.8287689601721097,
          0.9451681718853655,
          0.8882508731799739,
          0.5855490714605036,
          0.6471983371780882,
          0.7107996266719099,
          0.6066436886895066,
          0.8732744796883388,
          0.9542410939917283,
          0.8262109293325182,
          0.9443812321596572,
          0.6471983371780882,
          0.6000702678122563,
          0.9018480024212372,
          0.895247634461034,
          0.7322585882149847,
          0.5072758137011688,
          0.9319308449958524,
          0.921134573062196,
          0.9552017978626011,
          0.7823899366597603,
          0.5012138327300257,
          0.5459311886498728,
          0.5278951618985218,
          0.6066436886895066,
          0.7823899366597603,
          0.8060553211161003,
          0.81457789160026,
          0.7322585882149847,
          0.8979967337455228,
          0.8863252556733593,
          0.6471983371780882,
          0.7072378809170691,
          0.9137672520606716,
          0.5339344029926905,
          0.921134573062196,
          0.5339344029926905,
          0.9214844839628371,
          0.8863252556733593,
          0.921134573062196,
          0.9451681718853655,
          0.5339344029926905,
          0.8648350333597232,
          0.6395641716077419,
          0.619837000910318,
          0.6471983371780882,
          0.7818322681746357,
          0.8633156336968285,
          0.8287689601721097,
          0.9443812321596572,
          0.8771976846821464,
          0.8365729835169425,
          0.5012138327300257,
          0.6395641716077419,
          0.8000312662426575
         ]
        }
       ],
       "layout": {
        "legend": {
         "bgcolor": "#F5F6F9",
         "font": {
          "color": "#4D5663"
         }
        },
        "paper_bgcolor": "#F5F6F9",
        "plot_bgcolor": "#F5F6F9",
        "template": {
         "data": {
          "bar": [
           {
            "error_x": {
             "color": "#2a3f5f"
            },
            "error_y": {
             "color": "#2a3f5f"
            },
            "marker": {
             "line": {
              "color": "#E5ECF6",
              "width": 0.5
             }
            },
            "type": "bar"
           }
          ],
          "barpolar": [
           {
            "marker": {
             "line": {
              "color": "#E5ECF6",
              "width": 0.5
             }
            },
            "type": "barpolar"
           }
          ],
          "carpet": [
           {
            "aaxis": {
             "endlinecolor": "#2a3f5f",
             "gridcolor": "white",
             "linecolor": "white",
             "minorgridcolor": "white",
             "startlinecolor": "#2a3f5f"
            },
            "baxis": {
             "endlinecolor": "#2a3f5f",
             "gridcolor": "white",
             "linecolor": "white",
             "minorgridcolor": "white",
             "startlinecolor": "#2a3f5f"
            },
            "type": "carpet"
           }
          ],
          "choropleth": [
           {
            "colorbar": {
             "outlinewidth": 0,
             "ticks": ""
            },
            "type": "choropleth"
           }
          ],
          "contour": [
           {
            "colorbar": {
             "outlinewidth": 0,
             "ticks": ""
            },
            "colorscale": [
             [
              0,
              "#0d0887"
             ],
             [
              0.1111111111111111,
              "#46039f"
             ],
             [
              0.2222222222222222,
              "#7201a8"
             ],
             [
              0.3333333333333333,
              "#9c179e"
             ],
             [
              0.4444444444444444,
              "#bd3786"
             ],
             [
              0.5555555555555556,
              "#d8576b"
             ],
             [
              0.6666666666666666,
              "#ed7953"
             ],
             [
              0.7777777777777778,
              "#fb9f3a"
             ],
             [
              0.8888888888888888,
              "#fdca26"
             ],
             [
              1,
              "#f0f921"
             ]
            ],
            "type": "contour"
           }
          ],
          "contourcarpet": [
           {
            "colorbar": {
             "outlinewidth": 0,
             "ticks": ""
            },
            "type": "contourcarpet"
           }
          ],
          "heatmap": [
           {
            "colorbar": {
             "outlinewidth": 0,
             "ticks": ""
            },
            "colorscale": [
             [
              0,
              "#0d0887"
             ],
             [
              0.1111111111111111,
              "#46039f"
             ],
             [
              0.2222222222222222,
              "#7201a8"
             ],
             [
              0.3333333333333333,
              "#9c179e"
             ],
             [
              0.4444444444444444,
              "#bd3786"
             ],
             [
              0.5555555555555556,
              "#d8576b"
             ],
             [
              0.6666666666666666,
              "#ed7953"
             ],
             [
              0.7777777777777778,
              "#fb9f3a"
             ],
             [
              0.8888888888888888,
              "#fdca26"
             ],
             [
              1,
              "#f0f921"
             ]
            ],
            "type": "heatmap"
           }
          ],
          "heatmapgl": [
           {
            "colorbar": {
             "outlinewidth": 0,
             "ticks": ""
            },
            "colorscale": [
             [
              0,
              "#0d0887"
             ],
             [
              0.1111111111111111,
              "#46039f"
             ],
             [
              0.2222222222222222,
              "#7201a8"
             ],
             [
              0.3333333333333333,
              "#9c179e"
             ],
             [
              0.4444444444444444,
              "#bd3786"
             ],
             [
              0.5555555555555556,
              "#d8576b"
             ],
             [
              0.6666666666666666,
              "#ed7953"
             ],
             [
              0.7777777777777778,
              "#fb9f3a"
             ],
             [
              0.8888888888888888,
              "#fdca26"
             ],
             [
              1,
              "#f0f921"
             ]
            ],
            "type": "heatmapgl"
           }
          ],
          "histogram": [
           {
            "marker": {
             "colorbar": {
              "outlinewidth": 0,
              "ticks": ""
             }
            },
            "type": "histogram"
           }
          ],
          "histogram2d": [
           {
            "colorbar": {
             "outlinewidth": 0,
             "ticks": ""
            },
            "colorscale": [
             [
              0,
              "#0d0887"
             ],
             [
              0.1111111111111111,
              "#46039f"
             ],
             [
              0.2222222222222222,
              "#7201a8"
             ],
             [
              0.3333333333333333,
              "#9c179e"
             ],
             [
              0.4444444444444444,
              "#bd3786"
             ],
             [
              0.5555555555555556,
              "#d8576b"
             ],
             [
              0.6666666666666666,
              "#ed7953"
             ],
             [
              0.7777777777777778,
              "#fb9f3a"
             ],
             [
              0.8888888888888888,
              "#fdca26"
             ],
             [
              1,
              "#f0f921"
             ]
            ],
            "type": "histogram2d"
           }
          ],
          "histogram2dcontour": [
           {
            "colorbar": {
             "outlinewidth": 0,
             "ticks": ""
            },
            "colorscale": [
             [
              0,
              "#0d0887"
             ],
             [
              0.1111111111111111,
              "#46039f"
             ],
             [
              0.2222222222222222,
              "#7201a8"
             ],
             [
              0.3333333333333333,
              "#9c179e"
             ],
             [
              0.4444444444444444,
              "#bd3786"
             ],
             [
              0.5555555555555556,
              "#d8576b"
             ],
             [
              0.6666666666666666,
              "#ed7953"
             ],
             [
              0.7777777777777778,
              "#fb9f3a"
             ],
             [
              0.8888888888888888,
              "#fdca26"
             ],
             [
              1,
              "#f0f921"
             ]
            ],
            "type": "histogram2dcontour"
           }
          ],
          "mesh3d": [
           {
            "colorbar": {
             "outlinewidth": 0,
             "ticks": ""
            },
            "type": "mesh3d"
           }
          ],
          "parcoords": [
           {
            "line": {
             "colorbar": {
              "outlinewidth": 0,
              "ticks": ""
             }
            },
            "type": "parcoords"
           }
          ],
          "pie": [
           {
            "automargin": true,
            "type": "pie"
           }
          ],
          "scatter": [
           {
            "marker": {
             "colorbar": {
              "outlinewidth": 0,
              "ticks": ""
             }
            },
            "type": "scatter"
           }
          ],
          "scatter3d": [
           {
            "line": {
             "colorbar": {
              "outlinewidth": 0,
              "ticks": ""
             }
            },
            "marker": {
             "colorbar": {
              "outlinewidth": 0,
              "ticks": ""
             }
            },
            "type": "scatter3d"
           }
          ],
          "scattercarpet": [
           {
            "marker": {
             "colorbar": {
              "outlinewidth": 0,
              "ticks": ""
             }
            },
            "type": "scattercarpet"
           }
          ],
          "scattergeo": [
           {
            "marker": {
             "colorbar": {
              "outlinewidth": 0,
              "ticks": ""
             }
            },
            "type": "scattergeo"
           }
          ],
          "scattergl": [
           {
            "marker": {
             "colorbar": {
              "outlinewidth": 0,
              "ticks": ""
             }
            },
            "type": "scattergl"
           }
          ],
          "scattermapbox": [
           {
            "marker": {
             "colorbar": {
              "outlinewidth": 0,
              "ticks": ""
             }
            },
            "type": "scattermapbox"
           }
          ],
          "scatterpolar": [
           {
            "marker": {
             "colorbar": {
              "outlinewidth": 0,
              "ticks": ""
             }
            },
            "type": "scatterpolar"
           }
          ],
          "scatterpolargl": [
           {
            "marker": {
             "colorbar": {
              "outlinewidth": 0,
              "ticks": ""
             }
            },
            "type": "scatterpolargl"
           }
          ],
          "scatterternary": [
           {
            "marker": {
             "colorbar": {
              "outlinewidth": 0,
              "ticks": ""
             }
            },
            "type": "scatterternary"
           }
          ],
          "surface": [
           {
            "colorbar": {
             "outlinewidth": 0,
             "ticks": ""
            },
            "colorscale": [
             [
              0,
              "#0d0887"
             ],
             [
              0.1111111111111111,
              "#46039f"
             ],
             [
              0.2222222222222222,
              "#7201a8"
             ],
             [
              0.3333333333333333,
              "#9c179e"
             ],
             [
              0.4444444444444444,
              "#bd3786"
             ],
             [
              0.5555555555555556,
              "#d8576b"
             ],
             [
              0.6666666666666666,
              "#ed7953"
             ],
             [
              0.7777777777777778,
              "#fb9f3a"
             ],
             [
              0.8888888888888888,
              "#fdca26"
             ],
             [
              1,
              "#f0f921"
             ]
            ],
            "type": "surface"
           }
          ],
          "table": [
           {
            "cells": {
             "fill": {
              "color": "#EBF0F8"
             },
             "line": {
              "color": "white"
             }
            },
            "header": {
             "fill": {
              "color": "#C8D4E3"
             },
             "line": {
              "color": "white"
             }
            },
            "type": "table"
           }
          ]
         },
         "layout": {
          "annotationdefaults": {
           "arrowcolor": "#2a3f5f",
           "arrowhead": 0,
           "arrowwidth": 1
          },
          "coloraxis": {
           "colorbar": {
            "outlinewidth": 0,
            "ticks": ""
           }
          },
          "colorscale": {
           "diverging": [
            [
             0,
             "#8e0152"
            ],
            [
             0.1,
             "#c51b7d"
            ],
            [
             0.2,
             "#de77ae"
            ],
            [
             0.3,
             "#f1b6da"
            ],
            [
             0.4,
             "#fde0ef"
            ],
            [
             0.5,
             "#f7f7f7"
            ],
            [
             0.6,
             "#e6f5d0"
            ],
            [
             0.7,
             "#b8e186"
            ],
            [
             0.8,
             "#7fbc41"
            ],
            [
             0.9,
             "#4d9221"
            ],
            [
             1,
             "#276419"
            ]
           ],
           "sequential": [
            [
             0,
             "#0d0887"
            ],
            [
             0.1111111111111111,
             "#46039f"
            ],
            [
             0.2222222222222222,
             "#7201a8"
            ],
            [
             0.3333333333333333,
             "#9c179e"
            ],
            [
             0.4444444444444444,
             "#bd3786"
            ],
            [
             0.5555555555555556,
             "#d8576b"
            ],
            [
             0.6666666666666666,
             "#ed7953"
            ],
            [
             0.7777777777777778,
             "#fb9f3a"
            ],
            [
             0.8888888888888888,
             "#fdca26"
            ],
            [
             1,
             "#f0f921"
            ]
           ],
           "sequentialminus": [
            [
             0,
             "#0d0887"
            ],
            [
             0.1111111111111111,
             "#46039f"
            ],
            [
             0.2222222222222222,
             "#7201a8"
            ],
            [
             0.3333333333333333,
             "#9c179e"
            ],
            [
             0.4444444444444444,
             "#bd3786"
            ],
            [
             0.5555555555555556,
             "#d8576b"
            ],
            [
             0.6666666666666666,
             "#ed7953"
            ],
            [
             0.7777777777777778,
             "#fb9f3a"
            ],
            [
             0.8888888888888888,
             "#fdca26"
            ],
            [
             1,
             "#f0f921"
            ]
           ]
          },
          "colorway": [
           "#636efa",
           "#EF553B",
           "#00cc96",
           "#ab63fa",
           "#FFA15A",
           "#19d3f3",
           "#FF6692",
           "#B6E880",
           "#FF97FF",
           "#FECB52"
          ],
          "font": {
           "color": "#2a3f5f"
          },
          "geo": {
           "bgcolor": "white",
           "lakecolor": "white",
           "landcolor": "#E5ECF6",
           "showlakes": true,
           "showland": true,
           "subunitcolor": "white"
          },
          "hoverlabel": {
           "align": "left"
          },
          "hovermode": "closest",
          "mapbox": {
           "style": "light"
          },
          "paper_bgcolor": "white",
          "plot_bgcolor": "#E5ECF6",
          "polar": {
           "angularaxis": {
            "gridcolor": "white",
            "linecolor": "white",
            "ticks": ""
           },
           "bgcolor": "#E5ECF6",
           "radialaxis": {
            "gridcolor": "white",
            "linecolor": "white",
            "ticks": ""
           }
          },
          "scene": {
           "xaxis": {
            "backgroundcolor": "#E5ECF6",
            "gridcolor": "white",
            "gridwidth": 2,
            "linecolor": "white",
            "showbackground": true,
            "ticks": "",
            "zerolinecolor": "white"
           },
           "yaxis": {
            "backgroundcolor": "#E5ECF6",
            "gridcolor": "white",
            "gridwidth": 2,
            "linecolor": "white",
            "showbackground": true,
            "ticks": "",
            "zerolinecolor": "white"
           },
           "zaxis": {
            "backgroundcolor": "#E5ECF6",
            "gridcolor": "white",
            "gridwidth": 2,
            "linecolor": "white",
            "showbackground": true,
            "ticks": "",
            "zerolinecolor": "white"
           }
          },
          "shapedefaults": {
           "line": {
            "color": "#2a3f5f"
           }
          },
          "ternary": {
           "aaxis": {
            "gridcolor": "white",
            "linecolor": "white",
            "ticks": ""
           },
           "baxis": {
            "gridcolor": "white",
            "linecolor": "white",
            "ticks": ""
           },
           "bgcolor": "#E5ECF6",
           "caxis": {
            "gridcolor": "white",
            "linecolor": "white",
            "ticks": ""
           }
          },
          "title": {
           "x": 0.05
          },
          "xaxis": {
           "automargin": true,
           "gridcolor": "white",
           "linecolor": "white",
           "ticks": "",
           "title": {
            "standoff": 15
           },
           "zerolinecolor": "white",
           "zerolinewidth": 2
          },
          "yaxis": {
           "automargin": true,
           "gridcolor": "white",
           "linecolor": "white",
           "ticks": "",
           "title": {
            "standoff": 15
           },
           "zerolinecolor": "white",
           "zerolinewidth": 2
          }
         }
        },
        "title": {
         "font": {
          "color": "#4D5663"
         },
         "text": "Probability vs Log Odds"
        },
        "xaxis": {
         "gridcolor": "#E1E5ED",
         "range": [
          -5,
          5
         ],
         "showgrid": true,
         "tickfont": {
          "color": "#4D5663"
         },
         "title": {
          "font": {
           "color": "#4D5663"
          },
          "text": "Log Odds"
         },
         "zerolinecolor": "#E1E5ED"
        },
        "yaxis": {
         "gridcolor": "#E1E5ED",
         "showgrid": true,
         "tickfont": {
          "color": "#4D5663"
         },
         "title": {
          "font": {
           "color": "#4D5663"
          },
          "text": "Probability"
         },
         "zerolinecolor": "#E1E5ED"
        }
       }
      },
      "text/html": [
       "<div>\n",
       "        \n",
       "        \n",
       "            <div id=\"a13aef0e-f8bd-4270-9ccc-a524ee104f2d\" class=\"plotly-graph-div\" style=\"height:525px; width:100%;\"></div>\n",
       "            <script type=\"text/javascript\">\n",
       "                require([\"plotly\"], function(Plotly) {\n",
       "                    window.PLOTLYENV=window.PLOTLYENV || {};\n",
       "                    window.PLOTLYENV.BASE_URL='https://plot.ly';\n",
       "                    \n",
       "                if (document.getElementById(\"a13aef0e-f8bd-4270-9ccc-a524ee104f2d\")) {\n",
       "                    Plotly.newPlot(\n",
       "                        'a13aef0e-f8bd-4270-9ccc-a524ee104f2d',\n",
       "                        [{\"marker\": {\"color\": \"rgba(255, 153, 51, 1.0)\", \"line\": {\"width\": 1.3}, \"opacity\": 0.8, \"size\": 12, \"symbol\": \"circle\"}, \"mode\": \"markers\", \"name\": \"Died\", \"textfont\": {\"color\": \"#4D5663\"}, \"type\": \"scatter\", \"x\": [-2.2445137028239865, -2.4090109312781283, -2.7062901002578745, -1.407754190883061, -2.0246927073731564, -0.11303498269759155, -2.4090109312781283, -2.4090109312781283, -0.3441305024701446, -2.5933247697203865, -0.7449889335326092, -0.3916901721637445, -0.8680394485905654, -2.783762647721361, -1.134217776121646, -1.4314969451013924, -1.2067653309664985, -1.7064694127220326, -1.4558418932509074, -0.5505614113209332, -0.7809190147527814, -2.0197820886890923, -2.4090109312781283, -0.21987627367636325, -1.407754190883061, -1.2842378784299848, -1.4314969451013924, -2.415886319581105, -0.25328224234118685, -0.3137076995923967, -0.6432637067429301, -2.4090109312781283, -1.4314969451013924, -2.4090109312781283, -1.8291387651830895, -3.1039319203395723, -2.104398681566106, -2.4090109312781283, -1.3910791694087563, -1.4314969451013924, -1.134217776121646, -1.4314969451013924, -1.349000602272136, -2.7062901002578745, -2.104398681566106, -1.407754190883061, -2.783762647721361, -2.4090109312781283, -2.137672411845215, -2.104398681566106, -1.134217776121646, -1.0781981837325276, -0.11303498269759155, -2.7062901002578745, -0.25328224234118685, -2.222289004722229, -1.0002157111611798, -2.3379038470097573, -1.0002157111611798, -2.104398681566106, -2.7062901002578745, -2.7062901002578745, -2.7062901002578745, -1.134217776121646, -0.11303498269759155, -0.7029365421814335, -0.7809190147527814, -2.0197820886890923, -1.134217776121646, -2.7062901002578745, -1.055044522381402, -1.4314969451013924, -2.4090109312781283, -0.5505614113209332, -2.7062901002578745, -1.838645675292647, -2.0197820886890923, -0.3027788414012637, -0.7893319922454418, -0.9482032314026303, -1.407754190883061, -2.4090109312781283, -0.0726172070049555, -2.0197820886890923, -0.24845576333438063, -2.7062901002578745, -1.3246556541226209, -2.137672411845215, -2.104398681566106, -2.7062901002578745, -2.8906039387001328, -2.3379038470097573, -0.7809190147527814, -2.5994488092791035, -0.47308886385744703, -2.7062901002578745, -3.1763338111412245, -0.25328224234118685, -2.4090109312781283, -2.8241804234139973, -1.0781981837325276, -0.11815104688668393, -0.25328224234118685, -1.0781981837325276, -2.8906039387001328, -2.7062901002578745, -2.104398681566106, -1.397857531242877, -0.7449889335326092, -1.7050333598628076, -1.134217776121646, -2.7062901002578745, -1.80711951258636, -2.137672411845215, -2.526901254434251, -2.5994488092791035, -2.7062901002578745, -1.407754190883061, -1.4314969451013924, -2.4090109312781283, -2.5994488092791035, -0.25328224234118685, -2.7062901002578745, -2.7062901002578745, -0.25328224234118685, -2.0197820886890923, -2.7062901002578745, -3.014120251153209, -2.7062901002578745, -2.7062901002578745, -1.4314969451013924, -1.397857531242877, -0.49341268843777825, -1.5497794838055607, -2.0197820886890923, -1.811874650841579, -2.104398681566106, -2.3021696402993572, -2.7062901002578745, -2.5994488092791035, -2.7062901002578745, -2.4090109312781283, -2.7062901002578745, -1.4314969451013924, -0.7809190147527814, -2.7062901002578745, -1.4314969451013924, -1.6270508872914597, -2.7062901002578745, -2.7062901002578745, -2.8906039387001328, -2.104398681566106, -2.4090109312781283, -2.0197820886890923, -0.11815104688668393, -2.222289004722229, -0.17580969487770076, -0.3506195613386764, -2.8292964876030897, -2.7062901002578745, -0.7482613814203738, -1.4758400038142248, -2.7062901002578745, -2.5994488092791035, -2.6026667104624153, -3.204558129154184, -2.0197820886890923, -2.7062901002578745], \"y\": [0.09582375336254403, 0.08248814375140634, 0.0626032103587325, 0.19658852108631605, 0.11663462609512529, 0.4717713042129132, 0.08248814375140634, 0.08248814375140634, 0.414806478848742, 0.06956926436152373, 0.3219141660922685, 0.4033104924621397, 0.2956624156610816, 0.05820794481530549, 0.24338356543134837, 0.19286554999699657, 0.23027388871790658, 0.15362221011374566, 0.18910412077762342, 0.365734167083069, 0.31412185114857755, 0.1171415252501471, 0.08248814375140634, 0.44525132540721146, 0.19658852108631605, 0.21682970643872088, 0.19286554999699657, 0.08196927936840571, 0.4370157929666901, 0.42220999040609797, 0.34450914711401287, 0.08248814375140634, 0.19286554999699657, 0.08248814375140634, 0.13834090271300495, 0.042945358132945824, 0.1086700271820714, 0.08248814375140634, 0.1992355294857441, 0.19286554999699657, 0.24338356543134837, 0.19286554999699657, 0.20603380912784386, 0.0626032103587325, 0.1086700271820714, 0.19658852108631605, 0.05820794481530549, 0.08248814375140634, 0.10548882131079276, 0.1086700271820714, 0.24338356543134837, 0.25384714507863215, 0.4717713042129132, 0.0626032103587325, 0.4370157929666901, 0.0977667089164509, 0.26889901209549766, 0.08803205378819907, 0.26889901209549766, 0.1086700271820714, 0.0626032103587325, 0.0626032103587325, 0.0626032103587325, 0.24338356543134837, 0.4717713042129132, 0.3311614804927936, 0.31412185114857755, 0.1171415252501471, 0.24338356543134837, 0.0626032103587325, 0.2582575912423324, 0.19286554999699657, 0.08248814375140634, 0.365734167083069, 0.0626032103587325, 0.13721154491687834, 0.1171415252501471, 0.42487831324375114, 0.3123121216295838, 0.2792463101758607, 0.19658852108631605, 0.08248814375140634, 0.4818536717383783, 0.1171415252501471, 0.43820362481174163, 0.0626032103587325, 0.21004475678809825, 0.10548882131079276, 0.1086700271820714, 0.0626032103587325, 0.05262000326759814, 0.08803205378819907, 0.31412185114857755, 0.06917390246630642, 0.38388541201215504, 0.0626032103587325, 0.04006610102095341, 0.4370157929666901, 0.08248814375140634, 0.05603141224907761, 0.25384714507863215, 0.4704965518287614, 0.4370157929666901, 0.25384714507863215, 0.05262000326759814, 0.0626032103587325, 0.1086700271820714, 0.1981563089969444, 0.3219141660922685, 0.15380902208264383, 0.24338356543134837, 0.0626032103587325, 0.14098661918488284, 0.10548882131079276, 0.0739936882969962, 0.06917390246630642, 0.0626032103587325, 0.19658852108631605, 0.19286554999699657, 0.08248814375140634, 0.06917390246630642, 0.4370157929666901, 0.0626032103587325, 0.0626032103587325, 0.4370157929666901, 0.1171415252501471, 0.0626032103587325, 0.04679202848663333, 0.0626032103587325, 0.0626032103587325, 0.19286554999699657, 0.1981563089969444, 0.3790899556416453, 0.1751181198352666, 0.1171415252501471, 0.14041170982458842, 0.1086700271820714, 0.09094343167852806, 0.0626032103587325, 0.06917390246630642, 0.0626032103587325, 0.08248814375140634, 0.0626032103587325, 0.19286554999699657, 0.31412185114857755, 0.0626032103587325, 0.19286554999699657, 0.16423476072596152, 0.0626032103587325, 0.0626032103587325, 0.05262000326759814, 0.1086700271820714, 0.08248814375140634, 0.1171415252501471, 0.4704965518287614, 0.0977667089164509, 0.456160438082495, 0.41323218713908, 0.05576142775299662, 0.0626032103587325, 0.3212002550668303, 0.1860565845687581, 0.0626032103587325, 0.06917390246630642, 0.0689669924629162, 0.03899455218102395, 0.1171415252501471, 0.0626032103587325]}, {\"marker\": {\"color\": \"rgba(55, 128, 191, 1.0)\", \"line\": {\"width\": 1.3}, \"opacity\": 0.8, \"size\": 12, \"symbol\": \"circle\"}, \"mode\": \"markers\", \"name\": \"Survived\", \"textfont\": {\"color\": \"#4D5663\"}, \"type\": \"scatter\", \"x\": [0.6067467591502991, 0.2952591211353006, 0.004855340458530588, 1.7629422093137759, 0.3021345094382771, 0.3732415937066484, 0.004855340458530588, 2.4083665993151424, 0.7135880501290708, 1.3621448384442703, 0.004855340458530588, 0.5734730288711914, 1.303391249833345, 1.5671765768301749, 2.1455012252946792, 2.2179287213141676, 1.3621448384442703, 1.7947838904266773, 1.6740178678089466, 1.3864897865937853, 0.004855340458530588, 1.8431059921258404, 0.6913633520273137, 1.5769276645947599, 1.0061120808535986, 1.2796484956150136, 2.8172262728112334, 1.9712970367886928, 1.7629422093137759, 1.3621448384442703, 1.303391249833345, 1.3179933322695945, 0.6067467591502991, 1.9302264259636248, 1.2796484956150136, 0.004855340458530588, 1.2796484956150136, 0.3486091763505818, 2.1605840293954732, 0.5535028481294635, 0.3263844782488246, 1.0061120808535986, 0.6067467591502991, 1.5769276645947599, 2.7402507499854845, 1.5769276645947599, 2.8470920409642564, 2.0729977981625685, 0.3455954102819501, 0.6067467591502991, 0.8992707898748269, 0.4332257692275963, 1.9302264259636248, 3.0375299189652307, 1.5590077769925423, 2.832009236863462, 0.6067467591502991, 0.40575789923373673, 2.2179287213141676, 2.1455012252946792, 1.0061120808535986, 0.029105309269078228, 2.616734437532408, 2.4578631983752195, 3.059754617066988, 1.2796484956150136, 0.004855340458530588, 0.1842441862821549, 0.1116966314373023, 0.4332257692275963, 1.2796484956150136, 1.424579418766613, 1.4800351616003924, 1.0061120808535986, 2.175161596166864, 2.0537427384167013, 0.6067467591502991, 0.8820066755333165, 2.3605258793777297, 0.13594660024784994, 2.4578631983752195, 0.13594660024784994, 2.4626896773820253, 2.0537427384167013, 2.4578631983752195, 2.8470920409642564, 0.13594660024784994, 1.8560427683172607, 0.5734730288711914, 0.48885643599417694, 0.6067467591502991, 1.2763760477272497, 1.8431059921258404, 1.5769276645947599, 2.832009236863462, 1.9661565071837968, 1.6329472569838785, 0.004855340458530588, 0.5734730288711914, 1.3864897865937853], \"y\": [0.6471983371780882, 0.5732831625772055, 0.5012138327300257, 0.8535777683215571, 0.5749642322874658, 0.5922420289166541, 0.5012138327300257, 0.917463077604467, 0.6711935024306732, 0.7961080690352014, 0.5012138327300257, 0.6395641716077419, 0.7864051715844474, 0.8273807343900588, 0.895247634461034, 0.9018480024212372, 0.7961080690352014, 0.8575127945624337, 0.8421107723412679, 0.8000312662426575, 0.5012138327300257, 0.8633156336968285, 0.6662701425427205, 0.8287689601721097, 0.7322585882149847, 0.7823899366597603, 0.9435996319243737, 0.8777503594812939, 0.8535777683215571, 0.7961080690352014, 0.7864051715844474, 0.7888476555695773, 0.6471983371780882, 0.8732744796883388, 0.7823899366597603, 0.5012138327300257, 0.7823899366597603, 0.5862802672239202, 0.8966536806651231, 0.6349478960524234, 0.580879405541796, 0.7322585882149847, 0.6471983371780882, 0.8287689601721097, 0.9393603815928219, 0.8287689601721097, 0.9451681718853655, 0.8882508731799739, 0.5855490714605036, 0.6471983371780882, 0.7107996266719099, 0.6066436886895066, 0.8732744796883388, 0.9542410939917283, 0.8262109293325182, 0.9443812321596572, 0.6471983371780882, 0.6000702678122563, 0.9018480024212372, 0.895247634461034, 0.7322585882149847, 0.5072758137011688, 0.9319308449958524, 0.921134573062196, 0.9552017978626011, 0.7823899366597603, 0.5012138327300257, 0.5459311886498728, 0.5278951618985218, 0.6066436886895066, 0.7823899366597603, 0.8060553211161003, 0.81457789160026, 0.7322585882149847, 0.8979967337455228, 0.8863252556733593, 0.6471983371780882, 0.7072378809170691, 0.9137672520606716, 0.5339344029926905, 0.921134573062196, 0.5339344029926905, 0.9214844839628371, 0.8863252556733593, 0.921134573062196, 0.9451681718853655, 0.5339344029926905, 0.8648350333597232, 0.6395641716077419, 0.619837000910318, 0.6471983371780882, 0.7818322681746357, 0.8633156336968285, 0.8287689601721097, 0.9443812321596572, 0.8771976846821464, 0.8365729835169425, 0.5012138327300257, 0.6395641716077419, 0.8000312662426575]}],\n",
       "                        {\"legend\": {\"bgcolor\": \"#F5F6F9\", \"font\": {\"color\": \"#4D5663\"}}, \"paper_bgcolor\": \"#F5F6F9\", \"plot_bgcolor\": \"#F5F6F9\", \"template\": {\"data\": {\"bar\": [{\"error_x\": {\"color\": \"#2a3f5f\"}, \"error_y\": {\"color\": \"#2a3f5f\"}, \"marker\": {\"line\": {\"color\": \"#E5ECF6\", \"width\": 0.5}}, \"type\": \"bar\"}], \"barpolar\": [{\"marker\": {\"line\": {\"color\": \"#E5ECF6\", \"width\": 0.5}}, \"type\": \"barpolar\"}], \"carpet\": [{\"aaxis\": {\"endlinecolor\": \"#2a3f5f\", \"gridcolor\": \"white\", \"linecolor\": \"white\", \"minorgridcolor\": \"white\", \"startlinecolor\": \"#2a3f5f\"}, \"baxis\": {\"endlinecolor\": \"#2a3f5f\", \"gridcolor\": \"white\", \"linecolor\": \"white\", \"minorgridcolor\": \"white\", \"startlinecolor\": \"#2a3f5f\"}, \"type\": \"carpet\"}], \"choropleth\": [{\"colorbar\": {\"outlinewidth\": 0, \"ticks\": \"\"}, \"type\": \"choropleth\"}], \"contour\": [{\"colorbar\": {\"outlinewidth\": 0, \"ticks\": \"\"}, \"colorscale\": [[0.0, \"#0d0887\"], [0.1111111111111111, \"#46039f\"], [0.2222222222222222, \"#7201a8\"], [0.3333333333333333, \"#9c179e\"], [0.4444444444444444, \"#bd3786\"], [0.5555555555555556, \"#d8576b\"], [0.6666666666666666, \"#ed7953\"], [0.7777777777777778, \"#fb9f3a\"], [0.8888888888888888, \"#fdca26\"], [1.0, \"#f0f921\"]], \"type\": \"contour\"}], \"contourcarpet\": [{\"colorbar\": {\"outlinewidth\": 0, \"ticks\": \"\"}, \"type\": \"contourcarpet\"}], \"heatmap\": [{\"colorbar\": {\"outlinewidth\": 0, \"ticks\": \"\"}, \"colorscale\": [[0.0, \"#0d0887\"], [0.1111111111111111, \"#46039f\"], [0.2222222222222222, \"#7201a8\"], [0.3333333333333333, \"#9c179e\"], [0.4444444444444444, \"#bd3786\"], [0.5555555555555556, \"#d8576b\"], [0.6666666666666666, \"#ed7953\"], [0.7777777777777778, \"#fb9f3a\"], [0.8888888888888888, \"#fdca26\"], [1.0, \"#f0f921\"]], \"type\": \"heatmap\"}], \"heatmapgl\": [{\"colorbar\": {\"outlinewidth\": 0, \"ticks\": \"\"}, \"colorscale\": [[0.0, \"#0d0887\"], [0.1111111111111111, \"#46039f\"], [0.2222222222222222, \"#7201a8\"], [0.3333333333333333, \"#9c179e\"], [0.4444444444444444, \"#bd3786\"], [0.5555555555555556, \"#d8576b\"], [0.6666666666666666, \"#ed7953\"], [0.7777777777777778, \"#fb9f3a\"], [0.8888888888888888, \"#fdca26\"], [1.0, \"#f0f921\"]], \"type\": \"heatmapgl\"}], \"histogram\": [{\"marker\": {\"colorbar\": {\"outlinewidth\": 0, \"ticks\": \"\"}}, \"type\": \"histogram\"}], \"histogram2d\": [{\"colorbar\": {\"outlinewidth\": 0, \"ticks\": \"\"}, \"colorscale\": [[0.0, \"#0d0887\"], [0.1111111111111111, \"#46039f\"], [0.2222222222222222, \"#7201a8\"], [0.3333333333333333, \"#9c179e\"], [0.4444444444444444, \"#bd3786\"], [0.5555555555555556, \"#d8576b\"], [0.6666666666666666, \"#ed7953\"], [0.7777777777777778, \"#fb9f3a\"], [0.8888888888888888, \"#fdca26\"], [1.0, \"#f0f921\"]], \"type\": \"histogram2d\"}], \"histogram2dcontour\": [{\"colorbar\": {\"outlinewidth\": 0, \"ticks\": \"\"}, \"colorscale\": [[0.0, \"#0d0887\"], [0.1111111111111111, \"#46039f\"], [0.2222222222222222, \"#7201a8\"], [0.3333333333333333, \"#9c179e\"], [0.4444444444444444, \"#bd3786\"], [0.5555555555555556, \"#d8576b\"], [0.6666666666666666, \"#ed7953\"], [0.7777777777777778, \"#fb9f3a\"], [0.8888888888888888, \"#fdca26\"], [1.0, \"#f0f921\"]], \"type\": \"histogram2dcontour\"}], \"mesh3d\": [{\"colorbar\": {\"outlinewidth\": 0, \"ticks\": \"\"}, \"type\": \"mesh3d\"}], \"parcoords\": [{\"line\": {\"colorbar\": {\"outlinewidth\": 0, \"ticks\": \"\"}}, \"type\": \"parcoords\"}], \"pie\": [{\"automargin\": true, \"type\": \"pie\"}], \"scatter\": [{\"marker\": {\"colorbar\": {\"outlinewidth\": 0, \"ticks\": \"\"}}, \"type\": \"scatter\"}], \"scatter3d\": [{\"line\": {\"colorbar\": {\"outlinewidth\": 0, \"ticks\": \"\"}}, \"marker\": {\"colorbar\": {\"outlinewidth\": 0, \"ticks\": \"\"}}, \"type\": \"scatter3d\"}], \"scattercarpet\": [{\"marker\": {\"colorbar\": {\"outlinewidth\": 0, \"ticks\": \"\"}}, \"type\": \"scattercarpet\"}], \"scattergeo\": [{\"marker\": {\"colorbar\": {\"outlinewidth\": 0, \"ticks\": \"\"}}, \"type\": \"scattergeo\"}], \"scattergl\": [{\"marker\": {\"colorbar\": {\"outlinewidth\": 0, \"ticks\": \"\"}}, \"type\": \"scattergl\"}], \"scattermapbox\": [{\"marker\": {\"colorbar\": {\"outlinewidth\": 0, \"ticks\": \"\"}}, \"type\": \"scattermapbox\"}], \"scatterpolar\": [{\"marker\": {\"colorbar\": {\"outlinewidth\": 0, \"ticks\": \"\"}}, \"type\": \"scatterpolar\"}], \"scatterpolargl\": [{\"marker\": {\"colorbar\": {\"outlinewidth\": 0, \"ticks\": \"\"}}, \"type\": \"scatterpolargl\"}], \"scatterternary\": [{\"marker\": {\"colorbar\": {\"outlinewidth\": 0, \"ticks\": \"\"}}, \"type\": \"scatterternary\"}], \"surface\": [{\"colorbar\": {\"outlinewidth\": 0, \"ticks\": \"\"}, \"colorscale\": [[0.0, \"#0d0887\"], [0.1111111111111111, \"#46039f\"], [0.2222222222222222, \"#7201a8\"], [0.3333333333333333, \"#9c179e\"], [0.4444444444444444, \"#bd3786\"], [0.5555555555555556, \"#d8576b\"], [0.6666666666666666, \"#ed7953\"], [0.7777777777777778, \"#fb9f3a\"], [0.8888888888888888, \"#fdca26\"], [1.0, \"#f0f921\"]], \"type\": \"surface\"}], \"table\": [{\"cells\": {\"fill\": {\"color\": \"#EBF0F8\"}, \"line\": {\"color\": \"white\"}}, \"header\": {\"fill\": {\"color\": \"#C8D4E3\"}, \"line\": {\"color\": \"white\"}}, \"type\": \"table\"}]}, \"layout\": {\"annotationdefaults\": {\"arrowcolor\": \"#2a3f5f\", \"arrowhead\": 0, \"arrowwidth\": 1}, \"coloraxis\": {\"colorbar\": {\"outlinewidth\": 0, \"ticks\": \"\"}}, \"colorscale\": {\"diverging\": [[0, \"#8e0152\"], [0.1, \"#c51b7d\"], [0.2, \"#de77ae\"], [0.3, \"#f1b6da\"], [0.4, \"#fde0ef\"], [0.5, \"#f7f7f7\"], [0.6, \"#e6f5d0\"], [0.7, \"#b8e186\"], [0.8, \"#7fbc41\"], [0.9, \"#4d9221\"], [1, \"#276419\"]], \"sequential\": [[0.0, \"#0d0887\"], [0.1111111111111111, \"#46039f\"], [0.2222222222222222, \"#7201a8\"], [0.3333333333333333, \"#9c179e\"], [0.4444444444444444, \"#bd3786\"], [0.5555555555555556, \"#d8576b\"], [0.6666666666666666, \"#ed7953\"], [0.7777777777777778, \"#fb9f3a\"], [0.8888888888888888, \"#fdca26\"], [1.0, \"#f0f921\"]], \"sequentialminus\": [[0.0, \"#0d0887\"], [0.1111111111111111, \"#46039f\"], [0.2222222222222222, \"#7201a8\"], [0.3333333333333333, \"#9c179e\"], [0.4444444444444444, \"#bd3786\"], [0.5555555555555556, \"#d8576b\"], [0.6666666666666666, \"#ed7953\"], [0.7777777777777778, \"#fb9f3a\"], [0.8888888888888888, \"#fdca26\"], [1.0, \"#f0f921\"]]}, \"colorway\": [\"#636efa\", \"#EF553B\", \"#00cc96\", \"#ab63fa\", \"#FFA15A\", \"#19d3f3\", \"#FF6692\", \"#B6E880\", \"#FF97FF\", \"#FECB52\"], \"font\": {\"color\": \"#2a3f5f\"}, \"geo\": {\"bgcolor\": \"white\", \"lakecolor\": \"white\", \"landcolor\": \"#E5ECF6\", \"showlakes\": true, \"showland\": true, \"subunitcolor\": \"white\"}, \"hoverlabel\": {\"align\": \"left\"}, \"hovermode\": \"closest\", \"mapbox\": {\"style\": \"light\"}, \"paper_bgcolor\": \"white\", \"plot_bgcolor\": \"#E5ECF6\", \"polar\": {\"angularaxis\": {\"gridcolor\": \"white\", \"linecolor\": \"white\", \"ticks\": \"\"}, \"bgcolor\": \"#E5ECF6\", \"radialaxis\": {\"gridcolor\": \"white\", \"linecolor\": \"white\", \"ticks\": \"\"}}, \"scene\": {\"xaxis\": {\"backgroundcolor\": \"#E5ECF6\", \"gridcolor\": \"white\", \"gridwidth\": 2, \"linecolor\": \"white\", \"showbackground\": true, \"ticks\": \"\", \"zerolinecolor\": \"white\"}, \"yaxis\": {\"backgroundcolor\": \"#E5ECF6\", \"gridcolor\": \"white\", \"gridwidth\": 2, \"linecolor\": \"white\", \"showbackground\": true, \"ticks\": \"\", \"zerolinecolor\": \"white\"}, \"zaxis\": {\"backgroundcolor\": \"#E5ECF6\", \"gridcolor\": \"white\", \"gridwidth\": 2, \"linecolor\": \"white\", \"showbackground\": true, \"ticks\": \"\", \"zerolinecolor\": \"white\"}}, \"shapedefaults\": {\"line\": {\"color\": \"#2a3f5f\"}}, \"ternary\": {\"aaxis\": {\"gridcolor\": \"white\", \"linecolor\": \"white\", \"ticks\": \"\"}, \"baxis\": {\"gridcolor\": \"white\", \"linecolor\": \"white\", \"ticks\": \"\"}, \"bgcolor\": \"#E5ECF6\", \"caxis\": {\"gridcolor\": \"white\", \"linecolor\": \"white\", \"ticks\": \"\"}}, \"title\": {\"x\": 0.05}, \"xaxis\": {\"automargin\": true, \"gridcolor\": \"white\", \"linecolor\": \"white\", \"ticks\": \"\", \"title\": {\"standoff\": 15}, \"zerolinecolor\": \"white\", \"zerolinewidth\": 2}, \"yaxis\": {\"automargin\": true, \"gridcolor\": \"white\", \"linecolor\": \"white\", \"ticks\": \"\", \"title\": {\"standoff\": 15}, \"zerolinecolor\": \"white\", \"zerolinewidth\": 2}}}, \"title\": {\"font\": {\"color\": \"#4D5663\"}, \"text\": \"Probability vs Log Odds\"}, \"xaxis\": {\"gridcolor\": \"#E1E5ED\", \"range\": [-5, 5], \"showgrid\": true, \"tickfont\": {\"color\": \"#4D5663\"}, \"title\": {\"font\": {\"color\": \"#4D5663\"}, \"text\": \"Log Odds\"}, \"zerolinecolor\": \"#E1E5ED\"}, \"yaxis\": {\"gridcolor\": \"#E1E5ED\", \"showgrid\": true, \"tickfont\": {\"color\": \"#4D5663\"}, \"title\": {\"font\": {\"color\": \"#4D5663\"}, \"text\": \"Probability\"}, \"zerolinecolor\": \"#E1E5ED\"}},\n",
       "                        {\"showLink\": true, \"linkText\": \"Export to plot.ly\", \"plotlyServerURL\": \"https://plot.ly\", \"responsive\": true}\n",
       "                    ).then(function(){\n",
       "                            \n",
       "var gd = document.getElementById('a13aef0e-f8bd-4270-9ccc-a524ee104f2d');\n",
       "var x = new MutationObserver(function (mutations, observer) {{\n",
       "        var display = window.getComputedStyle(gd).display;\n",
       "        if (!display || display === 'none') {{\n",
       "            console.log([gd, 'removed!']);\n",
       "            Plotly.purge(gd);\n",
       "            observer.disconnect();\n",
       "        }}\n",
       "}});\n",
       "\n",
       "// Listen for the removal of the full notebook cells\n",
       "var notebookContainer = gd.closest('#notebook-container');\n",
       "if (notebookContainer) {{\n",
       "    x.observe(notebookContainer, {childList: true});\n",
       "}}\n",
       "\n",
       "// Listen for the clearing of the current output cell\n",
       "var outputEl = gd.closest('.output');\n",
       "if (outputEl) {{\n",
       "    x.observe(outputEl, {childList: true});\n",
       "}}\n",
       "\n",
       "                        })\n",
       "                };\n",
       "                });\n",
       "            </script>\n",
       "        </div>"
      ]
     },
     "metadata": {},
     "output_type": "display_data"
    }
   ],
   "source": [
    "yhat.sample(268).iplot(x='log_odds', y='probability', \n",
    "           yTitle='Probability', xrange=(-5, 5), xTitle='Log Odds',\n",
    "           title='Probability vs Log Odds', categories='classes')"
   ]
  },
  {
   "cell_type": "markdown",
   "metadata": {},
   "source": [
    "### 2nd approach - whole dataset"
   ]
  },
  {
   "cell_type": "code",
   "execution_count": 438,
   "metadata": {},
   "outputs": [
    {
     "data": {
      "text/plain": [
       "LogisticRegression(C=1.0, class_weight=None, dual=False, fit_intercept=True,\n",
       "                   intercept_scaling=1, l1_ratio=None, max_iter=500,\n",
       "                   multi_class='warn', n_jobs=None, penalty='l2',\n",
       "                   random_state=1, solver='lbfgs', tol=0.0001, verbose=0,\n",
       "                   warm_start=False)"
      ]
     },
     "execution_count": 438,
     "metadata": {},
     "output_type": "execute_result"
    },
    {
     "name": "stdout",
     "output_type": "stream",
     "text": [
      "Train data scored: 81.03 %\n"
     ]
    }
   ],
   "source": [
    "# Create logistic Regression model for whole \n",
    "log_reg = LogisticRegression(random_state=1, solver='lbfgs', max_iter=500)\n",
    "log_reg.fit(X, y)\n",
    "y_pred = log_reg.predict(X)\n",
    "fit_whole_train = round(log_reg.score(X, y) * 100, 2)\n",
    "print('Train data scored: {} %'.format(fit_whole_train))"
   ]
  },
  {
   "cell_type": "markdown",
   "metadata": {},
   "source": [
    "### Predict Titanic test data"
   ]
  },
  {
   "cell_type": "code",
   "execution_count": 439,
   "metadata": {},
   "outputs": [
    {
     "data": {
      "text/html": [
       "<div>\n",
       "<style scoped>\n",
       "    .dataframe tbody tr th:only-of-type {\n",
       "        vertical-align: middle;\n",
       "    }\n",
       "\n",
       "    .dataframe tbody tr th {\n",
       "        vertical-align: top;\n",
       "    }\n",
       "\n",
       "    .dataframe thead th {\n",
       "        text-align: right;\n",
       "    }\n",
       "</style>\n",
       "<table border=\"1\" class=\"dataframe\">\n",
       "  <thead>\n",
       "    <tr style=\"text-align: right;\">\n",
       "      <th></th>\n",
       "      <th>PassengerId</th>\n",
       "      <th>Pclass</th>\n",
       "      <th>Name</th>\n",
       "      <th>Sex</th>\n",
       "      <th>Age</th>\n",
       "      <th>SibSp</th>\n",
       "      <th>Parch</th>\n",
       "      <th>Ticket</th>\n",
       "      <th>Fare</th>\n",
       "      <th>Cabin</th>\n",
       "      <th>Embarked</th>\n",
       "    </tr>\n",
       "  </thead>\n",
       "  <tbody>\n",
       "    <tr>\n",
       "      <td>0</td>\n",
       "      <td>892</td>\n",
       "      <td>3</td>\n",
       "      <td>Kelly, Mr. James</td>\n",
       "      <td>male</td>\n",
       "      <td>34.5</td>\n",
       "      <td>0</td>\n",
       "      <td>0</td>\n",
       "      <td>330911</td>\n",
       "      <td>7.8292</td>\n",
       "      <td>NaN</td>\n",
       "      <td>Q</td>\n",
       "    </tr>\n",
       "    <tr>\n",
       "      <td>1</td>\n",
       "      <td>893</td>\n",
       "      <td>3</td>\n",
       "      <td>Wilkes, Mrs. James (Ellen Needs)</td>\n",
       "      <td>female</td>\n",
       "      <td>47.0</td>\n",
       "      <td>1</td>\n",
       "      <td>0</td>\n",
       "      <td>363272</td>\n",
       "      <td>7.0000</td>\n",
       "      <td>NaN</td>\n",
       "      <td>S</td>\n",
       "    </tr>\n",
       "    <tr>\n",
       "      <td>2</td>\n",
       "      <td>894</td>\n",
       "      <td>2</td>\n",
       "      <td>Myles, Mr. Thomas Francis</td>\n",
       "      <td>male</td>\n",
       "      <td>62.0</td>\n",
       "      <td>0</td>\n",
       "      <td>0</td>\n",
       "      <td>240276</td>\n",
       "      <td>9.6875</td>\n",
       "      <td>NaN</td>\n",
       "      <td>Q</td>\n",
       "    </tr>\n",
       "    <tr>\n",
       "      <td>3</td>\n",
       "      <td>895</td>\n",
       "      <td>3</td>\n",
       "      <td>Wirz, Mr. Albert</td>\n",
       "      <td>male</td>\n",
       "      <td>27.0</td>\n",
       "      <td>0</td>\n",
       "      <td>0</td>\n",
       "      <td>315154</td>\n",
       "      <td>8.6625</td>\n",
       "      <td>NaN</td>\n",
       "      <td>S</td>\n",
       "    </tr>\n",
       "    <tr>\n",
       "      <td>4</td>\n",
       "      <td>896</td>\n",
       "      <td>3</td>\n",
       "      <td>Hirvonen, Mrs. Alexander (Helga E Lindqvist)</td>\n",
       "      <td>female</td>\n",
       "      <td>22.0</td>\n",
       "      <td>1</td>\n",
       "      <td>1</td>\n",
       "      <td>3101298</td>\n",
       "      <td>12.2875</td>\n",
       "      <td>NaN</td>\n",
       "      <td>S</td>\n",
       "    </tr>\n",
       "  </tbody>\n",
       "</table>\n",
       "</div>"
      ],
      "text/plain": [
       "   PassengerId  Pclass                                          Name     Sex  \\\n",
       "0          892       3                              Kelly, Mr. James    male   \n",
       "1          893       3              Wilkes, Mrs. James (Ellen Needs)  female   \n",
       "2          894       2                     Myles, Mr. Thomas Francis    male   \n",
       "3          895       3                              Wirz, Mr. Albert    male   \n",
       "4          896       3  Hirvonen, Mrs. Alexander (Helga E Lindqvist)  female   \n",
       "\n",
       "    Age  SibSp  Parch   Ticket     Fare Cabin Embarked  \n",
       "0  34.5      0      0   330911   7.8292   NaN        Q  \n",
       "1  47.0      1      0   363272   7.0000   NaN        S  \n",
       "2  62.0      0      0   240276   9.6875   NaN        Q  \n",
       "3  27.0      0      0   315154   8.6625   NaN        S  \n",
       "4  22.0      1      1  3101298  12.2875   NaN        S  "
      ]
     },
     "execution_count": 439,
     "metadata": {},
     "output_type": "execute_result"
    }
   ],
   "source": [
    "df_test.head()"
   ]
  },
  {
   "cell_type": "code",
   "execution_count": 440,
   "metadata": {},
   "outputs": [
    {
     "data": {
      "text/html": [
       "<div>\n",
       "<style scoped>\n",
       "    .dataframe tbody tr th:only-of-type {\n",
       "        vertical-align: middle;\n",
       "    }\n",
       "\n",
       "    .dataframe tbody tr th {\n",
       "        vertical-align: top;\n",
       "    }\n",
       "\n",
       "    .dataframe thead th {\n",
       "        text-align: right;\n",
       "    }\n",
       "</style>\n",
       "<table border=\"1\" class=\"dataframe\">\n",
       "  <thead>\n",
       "    <tr style=\"text-align: right;\">\n",
       "      <th></th>\n",
       "      <th>PassengerId</th>\n",
       "      <th>SibSp</th>\n",
       "      <th>Parch</th>\n",
       "      <th>Fare</th>\n",
       "      <th>female</th>\n",
       "      <th>male</th>\n",
       "      <th>1st</th>\n",
       "      <th>2nd</th>\n",
       "      <th>3rd</th>\n",
       "      <th>Cherbourg</th>\n",
       "      <th>Queenstown</th>\n",
       "      <th>Southampton</th>\n",
       "      <th>15 &lt; age &lt;= 30</th>\n",
       "      <th>30 &lt; age &lt;= 50</th>\n",
       "      <th>5 &lt; age &lt;= 15</th>\n",
       "      <th>50 &lt; age &lt;= 75</th>\n",
       "      <th>age &lt;= 5</th>\n",
       "      <th>age &gt; 75</th>\n",
       "    </tr>\n",
       "  </thead>\n",
       "  <tbody>\n",
       "    <tr>\n",
       "      <td>0</td>\n",
       "      <td>892</td>\n",
       "      <td>0</td>\n",
       "      <td>0</td>\n",
       "      <td>7.8292</td>\n",
       "      <td>0</td>\n",
       "      <td>1</td>\n",
       "      <td>0</td>\n",
       "      <td>0</td>\n",
       "      <td>1</td>\n",
       "      <td>0</td>\n",
       "      <td>1</td>\n",
       "      <td>0</td>\n",
       "      <td>0</td>\n",
       "      <td>1</td>\n",
       "      <td>0</td>\n",
       "      <td>0</td>\n",
       "      <td>0</td>\n",
       "      <td>0</td>\n",
       "    </tr>\n",
       "    <tr>\n",
       "      <td>1</td>\n",
       "      <td>893</td>\n",
       "      <td>1</td>\n",
       "      <td>0</td>\n",
       "      <td>7.0000</td>\n",
       "      <td>1</td>\n",
       "      <td>0</td>\n",
       "      <td>0</td>\n",
       "      <td>0</td>\n",
       "      <td>1</td>\n",
       "      <td>0</td>\n",
       "      <td>0</td>\n",
       "      <td>1</td>\n",
       "      <td>0</td>\n",
       "      <td>1</td>\n",
       "      <td>0</td>\n",
       "      <td>0</td>\n",
       "      <td>0</td>\n",
       "      <td>0</td>\n",
       "    </tr>\n",
       "    <tr>\n",
       "      <td>2</td>\n",
       "      <td>894</td>\n",
       "      <td>0</td>\n",
       "      <td>0</td>\n",
       "      <td>9.6875</td>\n",
       "      <td>0</td>\n",
       "      <td>1</td>\n",
       "      <td>0</td>\n",
       "      <td>1</td>\n",
       "      <td>0</td>\n",
       "      <td>0</td>\n",
       "      <td>1</td>\n",
       "      <td>0</td>\n",
       "      <td>0</td>\n",
       "      <td>0</td>\n",
       "      <td>0</td>\n",
       "      <td>1</td>\n",
       "      <td>0</td>\n",
       "      <td>0</td>\n",
       "    </tr>\n",
       "    <tr>\n",
       "      <td>3</td>\n",
       "      <td>895</td>\n",
       "      <td>0</td>\n",
       "      <td>0</td>\n",
       "      <td>8.6625</td>\n",
       "      <td>0</td>\n",
       "      <td>1</td>\n",
       "      <td>0</td>\n",
       "      <td>0</td>\n",
       "      <td>1</td>\n",
       "      <td>0</td>\n",
       "      <td>0</td>\n",
       "      <td>1</td>\n",
       "      <td>1</td>\n",
       "      <td>0</td>\n",
       "      <td>0</td>\n",
       "      <td>0</td>\n",
       "      <td>0</td>\n",
       "      <td>0</td>\n",
       "    </tr>\n",
       "    <tr>\n",
       "      <td>4</td>\n",
       "      <td>896</td>\n",
       "      <td>1</td>\n",
       "      <td>1</td>\n",
       "      <td>12.2875</td>\n",
       "      <td>1</td>\n",
       "      <td>0</td>\n",
       "      <td>0</td>\n",
       "      <td>0</td>\n",
       "      <td>1</td>\n",
       "      <td>0</td>\n",
       "      <td>0</td>\n",
       "      <td>1</td>\n",
       "      <td>1</td>\n",
       "      <td>0</td>\n",
       "      <td>0</td>\n",
       "      <td>0</td>\n",
       "      <td>0</td>\n",
       "      <td>0</td>\n",
       "    </tr>\n",
       "  </tbody>\n",
       "</table>\n",
       "</div>"
      ],
      "text/plain": [
       "   PassengerId  SibSp  Parch     Fare  female  male  1st  2nd  3rd  Cherbourg  \\\n",
       "0          892      0      0   7.8292       0     1    0    0    1          0   \n",
       "1          893      1      0   7.0000       1     0    0    0    1          0   \n",
       "2          894      0      0   9.6875       0     1    0    1    0          0   \n",
       "3          895      0      0   8.6625       0     1    0    0    1          0   \n",
       "4          896      1      1  12.2875       1     0    0    0    1          0   \n",
       "\n",
       "   Queenstown  Southampton  15 < age <= 30  30 < age <= 50  5 < age <= 15  \\\n",
       "0           1            0               0               1              0   \n",
       "1           0            1               0               1              0   \n",
       "2           1            0               0               0              0   \n",
       "3           0            1               1               0              0   \n",
       "4           0            1               1               0              0   \n",
       "\n",
       "   50 < age <= 75  age <= 5  age > 75  \n",
       "0               0         0         0  \n",
       "1               0         0         0  \n",
       "2               1         0         0  \n",
       "3               0         0         0  \n",
       "4               0         0         0  "
      ]
     },
     "execution_count": 440,
     "metadata": {},
     "output_type": "execute_result"
    }
   ],
   "source": [
    "# Make the same preprocessing steps for test data as for the train data\n",
    "\n",
    "df_sex = pd.get_dummies(df_test['Sex'])\n",
    "# Encode the Pclass into separate columns\n",
    "df_class = pd.get_dummies(df_test['Pclass']).rename(columns={1: \"1st\", 2: \"2nd\", 3: \"3rd\"})\n",
    "# Encode the Embarked into separate columns\n",
    "df_embarked = pd.get_dummies(df_test['Embarked']).rename(columns={\"C\": \"Cherbourg\", \"Q\": \"Queenstown\", \"S\": \"Southampton\"})\n",
    "test_data = pd.concat([df_test, df_sex, df_class, df_embarked], axis=1).drop(['Pclass', 'Name', 'Ticket', 'Cabin', 'Sex', 'Embarked'], axis=1)\n",
    "\n",
    "imp = SimpleImputer(missing_values=np.nan, strategy='mean')\n",
    "data_to_fill = test_data['Age'].values.reshape(-1,1)\n",
    "imp = imp.fit(data_to_fill)\n",
    "imputed_data = imp.transform(data_to_fill).round()\n",
    "test_data['Age'] = imputed_data\n",
    "test_data['age_interval'] = test_data['Age'].apply(lambda x: child_adult_elderly(x))\n",
    "\n",
    "df_age_interval = pd.get_dummies(test_data['age_interval'])\n",
    "\n",
    "test_data = pd.concat([test_data, df_age_interval], axis=1).drop(['Age', 'age_interval'], axis=1)\n",
    "test_data.head()\n",
    "\n",
    "# Travelling alone or with someone creating new feature\n",
    "test_data['accompanied'] = test_data.apply(lambda row: 1 if row['SibSp'] > 0 or row['Parch'] > 0 else 0, axis=1)\n",
    "# Drop SibSp and Parch\n",
    "test_data = test_data.drop(['SibSp', 'Parch'], axis=1)\n",
    "\n",
    "test_data['fare_intervals'] = test_data['Fare'].apply(lambda x: fare_intervals(x))\n",
    "\n",
    "# Drop fare\n",
    "test_data = test_data.drop(['Fare'], axis=1)\n",
    "# Encode the intervals\n",
    "df_fare_intervals = pd.get_dummies(test_data['fare_intervals'])\n",
    "\n",
    "test_data = pd.concat([test_data, df_fare_intervals], axis=1).drop(['fare_intervals'], axis=1)"
   ]
  },
  {
   "cell_type": "code",
   "execution_count": 441,
   "metadata": {},
   "outputs": [
    {
     "data": {
      "text/html": [
       "<div>\n",
       "<style scoped>\n",
       "    .dataframe tbody tr th:only-of-type {\n",
       "        vertical-align: middle;\n",
       "    }\n",
       "\n",
       "    .dataframe tbody tr th {\n",
       "        vertical-align: top;\n",
       "    }\n",
       "\n",
       "    .dataframe thead th {\n",
       "        text-align: right;\n",
       "    }\n",
       "</style>\n",
       "<table border=\"1\" class=\"dataframe\">\n",
       "  <thead>\n",
       "    <tr style=\"text-align: right;\">\n",
       "      <th></th>\n",
       "      <th>PassengerId</th>\n",
       "      <th>female</th>\n",
       "      <th>male</th>\n",
       "      <th>1st</th>\n",
       "      <th>2nd</th>\n",
       "      <th>3rd</th>\n",
       "      <th>Cherbourg</th>\n",
       "      <th>Queenstown</th>\n",
       "      <th>Southampton</th>\n",
       "      <th>15 &lt; age &lt;= 30</th>\n",
       "      <th>30 &lt; age &lt;= 50</th>\n",
       "      <th>5 &lt; age &lt;= 15</th>\n",
       "      <th>50 &lt; age &lt;= 75</th>\n",
       "      <th>age &lt;= 5</th>\n",
       "      <th>age &gt; 75</th>\n",
       "      <th>accompanied</th>\n",
       "      <th>10 &lt; fare &lt; 20</th>\n",
       "      <th>100 &lt; fare &lt; 200</th>\n",
       "      <th>20 &lt; fare &lt; 30</th>\n",
       "      <th>30 &lt; fare &lt; 40</th>\n",
       "      <th>40 &lt; fare &lt; 50</th>\n",
       "      <th>50 &lt; fare &lt; 100</th>\n",
       "      <th>fare &lt; 10</th>\n",
       "      <th>fare &gt; 200</th>\n",
       "    </tr>\n",
       "  </thead>\n",
       "  <tbody>\n",
       "    <tr>\n",
       "      <td>0</td>\n",
       "      <td>892</td>\n",
       "      <td>0</td>\n",
       "      <td>1</td>\n",
       "      <td>0</td>\n",
       "      <td>0</td>\n",
       "      <td>1</td>\n",
       "      <td>0</td>\n",
       "      <td>1</td>\n",
       "      <td>0</td>\n",
       "      <td>0</td>\n",
       "      <td>1</td>\n",
       "      <td>0</td>\n",
       "      <td>0</td>\n",
       "      <td>0</td>\n",
       "      <td>0</td>\n",
       "      <td>0</td>\n",
       "      <td>0</td>\n",
       "      <td>0</td>\n",
       "      <td>0</td>\n",
       "      <td>0</td>\n",
       "      <td>0</td>\n",
       "      <td>0</td>\n",
       "      <td>1</td>\n",
       "      <td>0</td>\n",
       "    </tr>\n",
       "    <tr>\n",
       "      <td>1</td>\n",
       "      <td>893</td>\n",
       "      <td>1</td>\n",
       "      <td>0</td>\n",
       "      <td>0</td>\n",
       "      <td>0</td>\n",
       "      <td>1</td>\n",
       "      <td>0</td>\n",
       "      <td>0</td>\n",
       "      <td>1</td>\n",
       "      <td>0</td>\n",
       "      <td>1</td>\n",
       "      <td>0</td>\n",
       "      <td>0</td>\n",
       "      <td>0</td>\n",
       "      <td>0</td>\n",
       "      <td>1</td>\n",
       "      <td>0</td>\n",
       "      <td>0</td>\n",
       "      <td>0</td>\n",
       "      <td>0</td>\n",
       "      <td>0</td>\n",
       "      <td>0</td>\n",
       "      <td>1</td>\n",
       "      <td>0</td>\n",
       "    </tr>\n",
       "    <tr>\n",
       "      <td>2</td>\n",
       "      <td>894</td>\n",
       "      <td>0</td>\n",
       "      <td>1</td>\n",
       "      <td>0</td>\n",
       "      <td>1</td>\n",
       "      <td>0</td>\n",
       "      <td>0</td>\n",
       "      <td>1</td>\n",
       "      <td>0</td>\n",
       "      <td>0</td>\n",
       "      <td>0</td>\n",
       "      <td>0</td>\n",
       "      <td>1</td>\n",
       "      <td>0</td>\n",
       "      <td>0</td>\n",
       "      <td>0</td>\n",
       "      <td>0</td>\n",
       "      <td>0</td>\n",
       "      <td>0</td>\n",
       "      <td>0</td>\n",
       "      <td>0</td>\n",
       "      <td>0</td>\n",
       "      <td>1</td>\n",
       "      <td>0</td>\n",
       "    </tr>\n",
       "    <tr>\n",
       "      <td>3</td>\n",
       "      <td>895</td>\n",
       "      <td>0</td>\n",
       "      <td>1</td>\n",
       "      <td>0</td>\n",
       "      <td>0</td>\n",
       "      <td>1</td>\n",
       "      <td>0</td>\n",
       "      <td>0</td>\n",
       "      <td>1</td>\n",
       "      <td>1</td>\n",
       "      <td>0</td>\n",
       "      <td>0</td>\n",
       "      <td>0</td>\n",
       "      <td>0</td>\n",
       "      <td>0</td>\n",
       "      <td>0</td>\n",
       "      <td>0</td>\n",
       "      <td>0</td>\n",
       "      <td>0</td>\n",
       "      <td>0</td>\n",
       "      <td>0</td>\n",
       "      <td>0</td>\n",
       "      <td>1</td>\n",
       "      <td>0</td>\n",
       "    </tr>\n",
       "    <tr>\n",
       "      <td>4</td>\n",
       "      <td>896</td>\n",
       "      <td>1</td>\n",
       "      <td>0</td>\n",
       "      <td>0</td>\n",
       "      <td>0</td>\n",
       "      <td>1</td>\n",
       "      <td>0</td>\n",
       "      <td>0</td>\n",
       "      <td>1</td>\n",
       "      <td>1</td>\n",
       "      <td>0</td>\n",
       "      <td>0</td>\n",
       "      <td>0</td>\n",
       "      <td>0</td>\n",
       "      <td>0</td>\n",
       "      <td>1</td>\n",
       "      <td>1</td>\n",
       "      <td>0</td>\n",
       "      <td>0</td>\n",
       "      <td>0</td>\n",
       "      <td>0</td>\n",
       "      <td>0</td>\n",
       "      <td>0</td>\n",
       "      <td>0</td>\n",
       "    </tr>\n",
       "  </tbody>\n",
       "</table>\n",
       "</div>"
      ],
      "text/plain": [
       "   PassengerId  female  male  1st  2nd  3rd  Cherbourg  Queenstown  \\\n",
       "0          892       0     1    0    0    1          0           1   \n",
       "1          893       1     0    0    0    1          0           0   \n",
       "2          894       0     1    0    1    0          0           1   \n",
       "3          895       0     1    0    0    1          0           0   \n",
       "4          896       1     0    0    0    1          0           0   \n",
       "\n",
       "   Southampton  15 < age <= 30  30 < age <= 50  5 < age <= 15  50 < age <= 75  \\\n",
       "0            0               0               1              0               0   \n",
       "1            1               0               1              0               0   \n",
       "2            0               0               0              0               1   \n",
       "3            1               1               0              0               0   \n",
       "4            1               1               0              0               0   \n",
       "\n",
       "   age <= 5  age > 75  accompanied  10 < fare < 20  100 < fare < 200  \\\n",
       "0         0         0            0               0                 0   \n",
       "1         0         0            1               0                 0   \n",
       "2         0         0            0               0                 0   \n",
       "3         0         0            0               0                 0   \n",
       "4         0         0            1               1                 0   \n",
       "\n",
       "   20 < fare < 30  30 < fare < 40  40 < fare < 50  50 < fare < 100  fare < 10  \\\n",
       "0               0               0               0                0          1   \n",
       "1               0               0               0                0          1   \n",
       "2               0               0               0                0          1   \n",
       "3               0               0               0                0          1   \n",
       "4               0               0               0                0          0   \n",
       "\n",
       "   fare > 200  \n",
       "0           0  \n",
       "1           0  \n",
       "2           0  \n",
       "3           0  \n",
       "4           0  "
      ]
     },
     "execution_count": 441,
     "metadata": {},
     "output_type": "execute_result"
    }
   ],
   "source": [
    "test_data.head()"
   ]
  },
  {
   "cell_type": "code",
   "execution_count": 442,
   "metadata": {},
   "outputs": [],
   "source": [
    "columns_test = test_data.columns[1:]\n",
    "X_test_data = test_data[columns_test]\n",
    "y_pred = log_reg.predict(X_test_data).tolist()\n",
    "y_pred = pd.Series(y_pred)"
   ]
  },
  {
   "cell_type": "code",
   "execution_count": 443,
   "metadata": {},
   "outputs": [],
   "source": [
    "df_res = pd.concat([test_data['PassengerId'], y_pred], axis=1)"
   ]
  },
  {
   "cell_type": "code",
   "execution_count": 444,
   "metadata": {},
   "outputs": [
    {
     "data": {
      "text/html": [
       "<div>\n",
       "<style scoped>\n",
       "    .dataframe tbody tr th:only-of-type {\n",
       "        vertical-align: middle;\n",
       "    }\n",
       "\n",
       "    .dataframe tbody tr th {\n",
       "        vertical-align: top;\n",
       "    }\n",
       "\n",
       "    .dataframe thead th {\n",
       "        text-align: right;\n",
       "    }\n",
       "</style>\n",
       "<table border=\"1\" class=\"dataframe\">\n",
       "  <thead>\n",
       "    <tr style=\"text-align: right;\">\n",
       "      <th></th>\n",
       "      <th>PassengerId</th>\n",
       "      <th>Survived</th>\n",
       "    </tr>\n",
       "  </thead>\n",
       "  <tbody>\n",
       "    <tr>\n",
       "      <td>0</td>\n",
       "      <td>892</td>\n",
       "      <td>0</td>\n",
       "    </tr>\n",
       "    <tr>\n",
       "      <td>1</td>\n",
       "      <td>893</td>\n",
       "      <td>1</td>\n",
       "    </tr>\n",
       "    <tr>\n",
       "      <td>2</td>\n",
       "      <td>894</td>\n",
       "      <td>0</td>\n",
       "    </tr>\n",
       "    <tr>\n",
       "      <td>3</td>\n",
       "      <td>895</td>\n",
       "      <td>0</td>\n",
       "    </tr>\n",
       "    <tr>\n",
       "      <td>4</td>\n",
       "      <td>896</td>\n",
       "      <td>0</td>\n",
       "    </tr>\n",
       "  </tbody>\n",
       "</table>\n",
       "</div>"
      ],
      "text/plain": [
       "   PassengerId  Survived\n",
       "0          892         0\n",
       "1          893         1\n",
       "2          894         0\n",
       "3          895         0\n",
       "4          896         0"
      ]
     },
     "execution_count": 444,
     "metadata": {},
     "output_type": "execute_result"
    }
   ],
   "source": [
    "df_res = df_res.rename(columns={0: 'Survived'})\n",
    "df_res.head()"
   ]
  },
  {
   "cell_type": "code",
   "execution_count": 445,
   "metadata": {},
   "outputs": [],
   "source": [
    "# Create csv for submitting at Kaggle\n",
    "df_res.to_csv('titanic_results.csv', index=False)"
   ]
  },
  {
   "cell_type": "code",
   "execution_count": null,
   "metadata": {},
   "outputs": [],
   "source": []
  }
 ],
 "metadata": {
  "kernelspec": {
   "display_name": "Python 3",
   "language": "python",
   "name": "python3"
  },
  "language_info": {
   "codemirror_mode": {
    "name": "ipython",
    "version": 3
   },
   "file_extension": ".py",
   "mimetype": "text/x-python",
   "name": "python",
   "nbconvert_exporter": "python",
   "pygments_lexer": "ipython3",
   "version": "3.7.4"
  }
 },
 "nbformat": 4,
 "nbformat_minor": 2
}
